{
  "cells": [
    {
      "cell_type": "markdown",
      "metadata": {
        "id": "view-in-github",
        "colab_type": "text"
      },
      "source": [
        "<a href=\"https://colab.research.google.com/github/tupoylogin/dge-ann/blob/master/notebooks/NodeAttentionNetworks.ipynb\" target=\"_parent\"><img src=\"https://colab.research.google.com/assets/colab-badge.svg\" alt=\"Open In Colab\"/></a>"
      ]
    },
    {
      "cell_type": "code",
      "source": [
        "! pip install --quiet tensorflow-recommenders tensorflow-ranking tensorflow-addons kaggle hydra hydra-core"
      ],
      "metadata": {
        "id": "TaAvRjBUvIT9",
        "outputId": "edf9a4d4-e3ee-487d-e375-6a0e35f62ca5",
        "colab": {
          "base_uri": "https://localhost:8080/"
        }
      },
      "execution_count": 1,
      "outputs": [
        {
          "output_type": "stream",
          "name": "stdout",
          "text": [
            "\u001b[?25l\r\u001b[K     |███▉                            | 10 kB 27.3 MB/s eta 0:00:01\r\u001b[K     |███████▋                        | 20 kB 10.3 MB/s eta 0:00:01\r\u001b[K     |███████████▌                    | 30 kB 8.3 MB/s eta 0:00:01\r\u001b[K     |███████████████▎                | 40 kB 7.8 MB/s eta 0:00:01\r\u001b[K     |███████████████████             | 51 kB 3.8 MB/s eta 0:00:01\r\u001b[K     |███████████████████████         | 61 kB 4.5 MB/s eta 0:00:01\r\u001b[K     |██████████████████████████▊     | 71 kB 4.5 MB/s eta 0:00:01\r\u001b[K     |██████████████████████████████▌ | 81 kB 5.1 MB/s eta 0:00:01\r\u001b[K     |████████████████████████████████| 85 kB 3.1 MB/s \n",
            "\u001b[K     |████████████████████████████████| 141 kB 24.3 MB/s \n",
            "\u001b[K     |████████████████████████████████| 1.1 MB 62.3 MB/s \n",
            "\u001b[K     |████████████████████████████████| 82 kB 775 kB/s \n",
            "\u001b[K     |████████████████████████████████| 151 kB 81.8 MB/s \n",
            "\u001b[K     |████████████████████████████████| 462 kB 73.2 MB/s \n",
            "\u001b[K     |████████████████████████████████| 78 kB 8.2 MB/s \n",
            "\u001b[K     |████████████████████████████████| 117 kB 100.6 MB/s \n",
            "\u001b[K     |████████████████████████████████| 596 kB 56.7 MB/s \n",
            "\u001b[?25h  Building wheel for hydra (setup.py) ... \u001b[?25l\u001b[?25hdone\n",
            "  Building wheel for antlr4-python3-runtime (setup.py) ... \u001b[?25l\u001b[?25hdone\n"
          ]
        }
      ]
    },
    {
      "cell_type": "code",
      "source": [
        "! git clone https://github.com/tupoylogin/dge-ann"
      ],
      "metadata": {
        "id": "2ApnBQuvsYvq",
        "outputId": "709133a1-6a14-4d06-f207-4c3a4aa4d015",
        "colab": {
          "base_uri": "https://localhost:8080/"
        }
      },
      "execution_count": 2,
      "outputs": [
        {
          "output_type": "stream",
          "name": "stdout",
          "text": [
            "Cloning into 'dge-ann'...\n",
            "remote: Enumerating objects: 185, done.\u001b[K\n",
            "remote: Counting objects: 100% (97/97), done.\u001b[K\n",
            "remote: Compressing objects: 100% (64/64), done.\u001b[K\n",
            "remote: Total 185 (delta 61), reused 69 (delta 33), pack-reused 88\u001b[K\n",
            "Receiving objects: 100% (185/185), 66.37 MiB | 16.20 MiB/s, done.\n",
            "Resolving deltas: 100% (94/94), done.\n"
          ]
        }
      ]
    },
    {
      "cell_type": "code",
      "source": [
        "! mkdir ~/.kaggle\n",
        "! cp kaggle.json ~/.kaggle/\n",
        "! kaggle datasets download -d mkechinov/ecommerce-events-history-in-electronics-store\n",
        "! unzip /content/ecommerce-events-history-in-electronics-store.zip\n",
        "! cp events.csv dge-ann/data/raw/events.csv"
      ],
      "metadata": {
        "id": "MCvmMJX7r-og",
        "outputId": "a8122dbb-4525-403e-ff72-3bd3f62bc1fd",
        "colab": {
          "base_uri": "https://localhost:8080/"
        }
      },
      "execution_count": 3,
      "outputs": [
        {
          "output_type": "stream",
          "name": "stdout",
          "text": [
            "Warning: Your Kaggle API key is readable by other users on this system! To fix this, you can run 'chmod 600 /root/.kaggle/kaggle.json'\n",
            "Downloading ecommerce-events-history-in-electronics-store.zip to /content\n",
            " 84% 17.0M/20.3M [00:01<00:00, 13.6MB/s]\n",
            "100% 20.3M/20.3M [00:01<00:00, 13.3MB/s]\n",
            "Archive:  /content/ecommerce-events-history-in-electronics-store.zip\n",
            "  inflating: events.csv              \n"
          ]
        }
      ]
    },
    {
      "cell_type": "code",
      "execution_count": 4,
      "metadata": {
        "id": "53v5IiX2umed"
      },
      "outputs": [],
      "source": [
        "import os\n",
        "os.chdir('dge-ann')\n",
        "\n",
        "import tensorflow as tf\n",
        "import numpy as np\n",
        "import pandas as pd\n",
        "\n",
        "from src.models import Node2Vec, PlainEmbeddingModel, LSTMEmbeddingModel, AttentionDCN, RetrievalModel"
      ]
    },
    {
      "cell_type": "code",
      "source": [
        "! python src/process.py"
      ],
      "metadata": {
        "id": "b1dOGvpWxVTF",
        "outputId": "11774d5c-afa5-4937-9b52-76b5fd307ae4",
        "colab": {
          "base_uri": "https://localhost:8080/"
        }
      },
      "execution_count": 5,
      "outputs": [
        {
          "output_type": "stream",
          "name": "stdout",
          "text": [
            "src/process.py:163: UserWarning: \n",
            "The version_base parameter is not specified.\n",
            "Please specify a compatability version level, or None.\n",
            "Will assume defaults for version 1.1\n",
            "  @hydra.main(config_path=\"../config\", config_name='main')\n",
            "/usr/local/lib/python3.7/dist-packages/hydra/_internal/hydra.py:127: UserWarning: Future Hydra versions will no longer change working directory at job runtime by default.\n",
            "See https://hydra.cc/docs/next/upgrades/1.1_to_1.2/changes_to_job_working_dir/ for more information.\n",
            "  configure_logging=with_log_configuration,\n",
            "[2022-05-19 08:45:12,057][root][INFO] - Process data using /content/dge-ann/data/raw/events.csv\n",
            "[2022-05-19 08:45:13,870][root][INFO] - Constructing KG, train and test datasets /content/dge-ann/data/raw/events.csv\n",
            "[2022-05-19 08:46:45,766][root][INFO] - User vocabulary saved to /content/dge-ann/data/processed/user_id\n",
            "[2022-05-19 08:46:45,785][root][INFO] - Transaction vocabulary saved to /content/dge-ann/data/processed/event_type\n",
            "Compute item rating frequency: 100% 157824/157824 [00:00<00:00, 308498.91it/s]\n",
            "Creating the item graph: 100% 108053/108053 [00:00<00:00, 198396.36it/s]\n",
            "[2022-05-19 08:46:57,312][root][INFO] - Total number of graph nodes: 20261\n",
            "[2022-05-19 08:46:57,322][root][INFO] - Total number of graph edges: 65357\n",
            "[2022-05-19 08:46:57,346][root][INFO] - Item vocabulary saved to /content/dge-ann/data/processed/product_id\n",
            "Random walks iteration 1 of 3: 100% 20261/20261 [00:10<00:00, 1867.61it/s]\n",
            "Random walks iteration 2 of 3: 100% 20261/20261 [00:11<00:00, 1836.63it/s]\n",
            "Random walks iteration 3 of 3: 100% 20261/20261 [00:10<00:00, 1860.82it/s]\n",
            "Generating postive and negative examples: 100% 60783/60783 [00:55<00:00, 1085.85it/s]\n",
            "Populating the dataset: 100% 11010425/11010425 [00:08<00:00, 1290734.97it/s]\n",
            "2022-05-19 08:48:41.246171: W tensorflow/core/common_runtime/gpu/gpu_bfc_allocator.cc:39] Overriding allow_growth setting because the TF_FORCE_GPU_ALLOW_GROWTH environment variable is set. Original config value was 0.\n",
            "[2022-05-19 08:49:16,834][root][INFO] - Node2Vec dataset saved to /content/dge-ann/data/processed/node2vec_dataset\n",
            "[2022-05-19 08:49:17,029][root][INFO] - Adjacency matrix of KG saved to /content/dge-ann/data/processed/adjacency_matrix\n",
            "[2022-05-19 08:49:17,800][root][INFO] - Train dataset of KG saved to /content/dge-ann/data/processed/train\n",
            "[2022-05-19 08:49:18,284][root][INFO] - Test dataset of KG saved to /content/dge-ann/data/processed/test\n"
          ]
        }
      ]
    },
    {
      "cell_type": "code",
      "execution_count": 6,
      "metadata": {
        "id": "Vie9Qjoiumee"
      },
      "outputs": [],
      "source": [
        "adjacency_matrix_path = 'data/processed/adjacency_matrix'\n",
        "node2vec_dataset_path = 'data/processed/node2vec_dataset'\n",
        "train_dataset_path = 'data/processed/train'\n",
        "test_dataset_path = 'data/processed/test'\n",
        "\n",
        "users_vocab_path = 'data/processed/user_id.npy'\n",
        "users_feature_type = \"int\"\n",
        "\n",
        "items_vocab_path = 'data/processed/product_id.npy'\n",
        "items_feature_type = \"int\"\n",
        "\n",
        "events_vocab_path = 'data/processed/event_type.npy'\n",
        "events_feature_type = \"str\"\n",
        "\n",
        "learning_rate = 0.001\n",
        "embedding_dim = 64\n",
        "batch_size = 1024"
      ]
    },
    {
      "cell_type": "code",
      "execution_count": 7,
      "metadata": {
        "id": "De6D8mwxumef"
      },
      "outputs": [],
      "source": [
        "def construct_adjacency_matrix(path: str, shape: int) -> tf.SparseTensor:\n",
        "    adjacency_matrix = tf.io.read_file(path)\n",
        "    adjacency_matrix = tf.io.parse_tensor(adjacency_matrix, out_type=tf.int64)\n",
        "    len_of_adj_matrix = adjacency_matrix.shape[0]\n",
        "    adjacency_matrix = tf.sparse.SparseTensor(\n",
        "        indices=np.append([[0, 0]], adjacency_matrix.numpy(), axis=0), \n",
        "        values=[1 for _ in range(len_of_adj_matrix+1)], \n",
        "        dense_shape=(shape, shape)\n",
        "    )\n",
        "    return adjacency_matrix"
      ]
    },
    {
      "cell_type": "code",
      "execution_count": 8,
      "metadata": {
        "id": "3JCPVzkdumef"
      },
      "outputs": [],
      "source": [
        "users_vocab = np.load(users_vocab_path)\n",
        "events_vocab = np.load(events_vocab_path, allow_pickle=True)\n",
        "items_vocab = np.load(items_vocab_path)\n",
        "\n",
        "adjacency_matrix = construct_adjacency_matrix(adjacency_matrix_path, shape=len(items_vocab) + 1)"
      ]
    },
    {
      "cell_type": "code",
      "execution_count": 24,
      "metadata": {
        "id": "ReQwx1imumef"
      },
      "outputs": [],
      "source": [
        "node2vec_dataset = tf.data.experimental.load(node2vec_dataset_path)\n",
        "node2vec_dataset = node2vec_dataset.batch(batch_size, drop_remainder=True)\n",
        "node2vec_dataset = node2vec_dataset.prefetch(tf.data.AUTOTUNE)"
      ]
    },
    {
      "cell_type": "code",
      "execution_count": 27,
      "metadata": {
        "id": "32VvqIc6umeg"
      },
      "outputs": [],
      "source": [
        "node2vec_model = Node2Vec(\n",
        "    embedding_dim=embedding_dim, \n",
        "    target_feature='target', \n",
        "    context_feature='context', \n",
        "    feature_type='int', \n",
        "    feature_vocab=items_vocab)\n",
        "\n",
        "node2vec_model.compile(\n",
        "    optimizer=tf.keras.optimizers.Adam(learning_rate),\n",
        "    loss=tf.keras.losses.BinaryCrossentropy(from_logits=True),\n",
        ")"
      ]
    },
    {
      "cell_type": "code",
      "execution_count": 28,
      "metadata": {
        "colab": {
          "base_uri": "https://localhost:8080/"
        },
        "id": "Sgm1I5M7umeg",
        "outputId": "e6af95a8-61eb-4f0b-876a-8a591d5e465a"
      },
      "outputs": [
        {
          "output_type": "stream",
          "name": "stdout",
          "text": [
            "Epoch 1/10\n",
            "10748/10748 [==============================] - 161s 15ms/step - loss: 0.3459\n",
            "Epoch 2/10\n",
            "10748/10748 [==============================] - 162s 15ms/step - loss: 0.1645\n",
            "Epoch 3/10\n",
            "10748/10748 [==============================] - 161s 15ms/step - loss: 0.1730\n",
            "Epoch 4/10\n",
            "10748/10748 [==============================] - 160s 15ms/step - loss: 0.1672\n",
            "Epoch 5/10\n",
            "10748/10748 [==============================] - 161s 15ms/step - loss: 0.1723\n",
            "Epoch 6/10\n",
            "10748/10748 [==============================] - 161s 15ms/step - loss: 0.1661\n",
            "Epoch 7/10\n",
            "10748/10748 [==============================] - 161s 15ms/step - loss: 0.1720\n",
            "Epoch 8/10\n",
            "10748/10748 [==============================] - 161s 15ms/step - loss: 0.1658\n",
            "Epoch 9/10\n",
            "10748/10748 [==============================] - 161s 15ms/step - loss: 0.1698\n",
            "Epoch 10/10\n",
            "10748/10748 [==============================] - 160s 15ms/step - loss: 0.1636\n"
          ]
        },
        {
          "output_type": "execute_result",
          "data": {
            "text/plain": [
              "<keras.callbacks.History at 0x7f85e82749d0>"
            ]
          },
          "metadata": {},
          "execution_count": 28
        }
      ],
      "source": [
        "node2vec_model.fit(node2vec_dataset, epochs=10)"
      ]
    },
    {
      "cell_type": "code",
      "execution_count": 29,
      "metadata": {
        "colab": {
          "base_uri": "https://localhost:8080/"
        },
        "id": "XbO5s-Vjumei",
        "outputId": "a605c918-bc3d-4fb1-b682-2a0e987fc92f"
      },
      "outputs": [
        {
          "output_type": "stream",
          "name": "stdout",
          "text": [
            "Embeddings shape: (46296, 64)\n"
          ]
        }
      ],
      "source": [
        "item_embeddings = node2vec_model.get_layer(\"embeddings\").get_weights()[0]\n",
        "print(\"Embeddings shape:\", item_embeddings.shape)"
      ]
    },
    {
      "cell_type": "code",
      "source": [
        "np.save('data/processed/node2vec_embeddings', item_embeddings)"
      ],
      "metadata": {
        "id": "bUm3Uo5wwdW0"
      },
      "execution_count": 30,
      "outputs": []
    },
    {
      "cell_type": "code",
      "source": [
        "item_embeddings = np.load('data/processed/node2vec_embeddings.npy')"
      ],
      "metadata": {
        "id": "uGa0WjQntBzY"
      },
      "execution_count": 9,
      "outputs": []
    },
    {
      "cell_type": "code",
      "source": [
        "import typing as tp\n",
        "\n",
        "import tensorflow_recommenders as tfrs\n",
        "import tensorflow_ranking as tfrk\n",
        "\n",
        "class QueryModel(tf.keras.Model):\n",
        "  \"\"\"Model for encoding user queries.\"\"\"\n",
        "\n",
        "  def __init__(self, \n",
        "               deep_model_layer_sizes: tp.List[str], \n",
        "               embedding_dim: int,\n",
        "               use_cross_layer: bool,\n",
        "               position_embeddings: str = None,\n",
        "               embedding_type: str = None,\n",
        "               **item_embedding_kwargs):\n",
        "    \"\"\"Model for encoding user queries.\n",
        "\n",
        "    Args:\n",
        "      deep_model_layer_sizes:\n",
        "        A list of integers where the i-th entry represents the number of units\n",
        "        the i-th layer contains.\n",
        "    \"\"\"\n",
        "    super().__init__()\n",
        "\n",
        "    # We first use the user model for generating embeddings.\n",
        "    self.user_model = PlainEmbeddingModel(\n",
        "        feature_name=\"user_id\", \n",
        "        feature_type=users_feature_type, \n",
        "        feature_vocab=users_vocab, \n",
        "        embedding_dim=embedding_dim)\n",
        "    self.event_type_model = tf.keras.models.Sequential(\n",
        "        [\n",
        "         PlainEmbeddingModel(\n",
        "          feature_name=\"event_type\", \n",
        "          feature_type=events_feature_type, \n",
        "          feature_vocab=events_vocab, \n",
        "          embedding_dim=embedding_dim,\n",
        "          ),\n",
        "         tf.keras.layers.GlobalAveragePooling1D()\n",
        "        ]\n",
        "        )\n",
        "    self.item_history = AttentionDCN(\n",
        "        feature_name=\"product_id\", \n",
        "        feature_type=items_feature_type, \n",
        "        feature_vocab=items_vocab, \n",
        "        embedding_dim=embedding_dim,\n",
        "        deep_model_layer_sizes=deep_model_layer_sizes,\n",
        "        use_cross_layer=use_cross_layer,\n",
        "        position_embeddings=position_embeddings,\n",
        "        embedding_type=embedding_type,\n",
        "        **item_embedding_kwargs)\n",
        "    # Then construct the layers.\n",
        "    self.dense_layers = tf.keras.Sequential()\n",
        "\n",
        "    # Use the ReLU activation for all but the last layer.\n",
        "    for layer_size in deep_model_layer_sizes[:-1]:\n",
        "      self.dense_layers.add(tf.keras.layers.Dense(layer_size, activation=\"relu\"))\n",
        "\n",
        "    # No activation for the last layer.\n",
        "    for layer_size in deep_model_layer_sizes[-1:]:\n",
        "      self.dense_layers.add(tf.keras.layers.Dense(layer_size))\n",
        "\n",
        "  def call(self, inputs):\n",
        "    user_embedding = self.user_model(inputs)\n",
        "    event_type_embedding = self.event_type_model(inputs)\n",
        "    item_history_embeddings = self.item_history(inputs)\n",
        "    feature_embedding = tf.concat([\n",
        "        user_embedding,\n",
        "        event_type_embedding,\n",
        "        item_history_embeddings\n",
        "    ], axis=1)\n",
        "    return self.dense_layers(feature_embedding)"
      ],
      "metadata": {
        "id": "qKY6zuGs8EIq"
      },
      "execution_count": 10,
      "outputs": []
    },
    {
      "cell_type": "code",
      "source": [
        "deep_layer_sizes = [128, 64]\n",
        "\n",
        "query_model = QueryModel(\n",
        "    deep_model_layer_sizes=deep_layer_sizes, \n",
        "    use_cross_layer=False, \n",
        "    position_embeddings='absolute', \n",
        "    embedding_type='neighbor',\n",
        "    embedding_dim=embedding_dim,\n",
        "    embeddings_initializer=tf.keras.initializers.Constant(item_embeddings),\n",
        "    known_items_relations=adjacency_matrix,\n",
        "    sequence_length=10)\n",
        "\n",
        "candidate_model = tf.keras.models.Sequential([\n",
        "    PlainEmbeddingModel(\n",
        "      feature_name=\"target_product_id\", \n",
        "      embedding_dim=embedding_dim,\n",
        "      feature_type=items_feature_type, \n",
        "      feature_vocab=items_vocab,\n",
        "    ),\n",
        "    tf.keras.layers.GlobalAveragePooling1D()\n",
        "])"
      ],
      "metadata": {
        "id": "VnKDOA-nARih"
      },
      "execution_count": 25,
      "outputs": []
    },
    {
      "cell_type": "code",
      "source": [
        "train_dataset = tf.data.experimental.load(train_dataset_path).batch(batch_size).cache()\n",
        "test_dataset = tf.data.experimental.load(test_dataset_path).batch(batch_size).cache()"
      ],
      "metadata": {
        "id": "sqMtcbRKEqIs"
      },
      "execution_count": 12,
      "outputs": []
    },
    {
      "cell_type": "code",
      "source": [
        "dge_ann_model = RetrievalModel(\n",
        "      query_model=query_model,\n",
        "      candidate_model=candidate_model,\n",
        "      candidate_pool=tf.data.Dataset.from_tensor_slices({\"target_product_id\": items_vocab[..., np.newaxis]})\n",
        "    )"
      ],
      "metadata": {
        "id": "LUiu6Z-iUnr5",
        "outputId": "5a9ba76b-0903-42bc-b13a-497d7f2fdcc2",
        "colab": {
          "base_uri": "https://localhost:8080/"
        }
      },
      "execution_count": 20,
      "outputs": [
        {
          "output_type": "stream",
          "name": "stdout",
          "text": [
            "WARNING:tensorflow:Layers in a Sequential model should only have a single input tensor. Received: inputs={'target_product_id': <tf.Tensor 'args_0:0' shape=(None, 1) dtype=int64>}. Consider rewriting this model with the Functional API.\n"
          ]
        }
      ]
    },
    {
      "cell_type": "code",
      "source": [
        "dge_ann_model.compile(optimizer=tf.keras.optimizers.Adagrad(0.01))\n",
        "\n",
        "dge_ann_history = dge_ann_model.fit(\n",
        "    train_dataset,\n",
        "    validation_data=test_dataset,\n",
        "    validation_freq=5,\n",
        "    epochs=50,\n",
        "    verbose=1)"
      ],
      "metadata": {
        "id": "iLJX92gO-SYW",
        "outputId": "4ccc5468-4cdf-42a7-f071-611954d9fefd",
        "colab": {
          "base_uri": "https://localhost:8080/"
        }
      },
      "execution_count": 26,
      "outputs": [
        {
          "output_type": "stream",
          "name": "stdout",
          "text": [
            "Epoch 1/50\n",
            "WARNING:tensorflow:Layers in a Sequential model should only have a single input tensor. Received: inputs={'user_id': <tf.Tensor 'IteratorGetNext:3' shape=(None,) dtype=int64>, 'event_type': <tf.Tensor 'IteratorGetNext:0' shape=(None, 10) dtype=string>, 'product_id': <tf.Tensor 'IteratorGetNext:1' shape=(None, 10) dtype=int32>, 'target_product_id': <tf.Tensor 'IteratorGetNext:2' shape=(None, 1) dtype=int32>}. Consider rewriting this model with the Functional API.\n",
            "WARNING:tensorflow:Layers in a Sequential model should only have a single input tensor. Received: inputs={'user_id': <tf.Tensor 'IteratorGetNext:3' shape=(None,) dtype=int64>, 'event_type': <tf.Tensor 'IteratorGetNext:0' shape=(None, 10) dtype=string>, 'product_id': <tf.Tensor 'IteratorGetNext:1' shape=(None, 10) dtype=int32>, 'target_product_id': <tf.Tensor 'IteratorGetNext:2' shape=(None, 1) dtype=int32>}. Consider rewriting this model with the Functional API.\n",
            "WARNING:tensorflow:Layers in a Sequential model should only have a single input tensor. Received: inputs={'user_id': <tf.Tensor 'IteratorGetNext:3' shape=(None,) dtype=int64>, 'event_type': <tf.Tensor 'IteratorGetNext:0' shape=(None, 10) dtype=string>, 'product_id': <tf.Tensor 'IteratorGetNext:1' shape=(None, 10) dtype=int32>, 'target_product_id': <tf.Tensor 'IteratorGetNext:2' shape=(None, 1) dtype=int32>}. Consider rewriting this model with the Functional API.\n",
            "WARNING:tensorflow:Layers in a Sequential model should only have a single input tensor. Received: inputs={'user_id': <tf.Tensor 'IteratorGetNext:3' shape=(None,) dtype=int64>, 'event_type': <tf.Tensor 'IteratorGetNext:0' shape=(None, 10) dtype=string>, 'product_id': <tf.Tensor 'IteratorGetNext:1' shape=(None, 10) dtype=int32>, 'target_product_id': <tf.Tensor 'IteratorGetNext:2' shape=(None, 1) dtype=int32>}. Consider rewriting this model with the Functional API.\n",
            "42/42 [==============================] - 356s 8s/step - map_1: 0.0000e+00 - map_10: 0.0000e+00 - map_100: 0.0000e+00 - ndcg_1: 0.0000e+00 - ndcg_10: 0.0000e+00 - ndcg_100: 0.0000e+00 - loss: 6752.0351 - regularization_loss: 0.0000e+00 - total_loss: 6752.0351\n",
            "Epoch 2/50\n",
            "42/42 [==============================] - 354s 8s/step - map_1: 0.0000e+00 - map_10: 0.0000e+00 - map_100: 0.0000e+00 - ndcg_1: 0.0000e+00 - ndcg_10: 0.0000e+00 - ndcg_100: 0.0000e+00 - loss: 6365.6097 - regularization_loss: 0.0000e+00 - total_loss: 6365.6097\n",
            "Epoch 3/50\n",
            "42/42 [==============================] - 353s 8s/step - map_1: 0.0000e+00 - map_10: 0.0000e+00 - map_100: 0.0000e+00 - ndcg_1: 0.0000e+00 - ndcg_10: 0.0000e+00 - ndcg_100: 0.0000e+00 - loss: 6123.8573 - regularization_loss: 0.0000e+00 - total_loss: 6123.8573\n",
            "Epoch 4/50\n",
            "42/42 [==============================] - 353s 8s/step - map_1: 0.0000e+00 - map_10: 0.0000e+00 - map_100: 0.0000e+00 - ndcg_1: 0.0000e+00 - ndcg_10: 0.0000e+00 - ndcg_100: 0.0000e+00 - loss: 5912.2656 - regularization_loss: 0.0000e+00 - total_loss: 5912.2656\n",
            "Epoch 5/50\n",
            "42/42 [==============================] - ETA: 0s - map_1: 0.0000e+00 - map_10: 0.0000e+00 - map_100: 0.0000e+00 - ndcg_1: 0.0000e+00 - ndcg_10: 0.0000e+00 - ndcg_100: 0.0000e+00 - loss: 5751.6967 - regularization_loss: 0.0000e+00 - total_loss: 5751.6967WARNING:tensorflow:Layers in a Sequential model should only have a single input tensor. Received: inputs={'product_id': <tf.Tensor 'IteratorGetNext:1' shape=(None, 10) dtype=int32>, 'user_id': <tf.Tensor 'IteratorGetNext:3' shape=(None,) dtype=int64>, 'event_type': <tf.Tensor 'IteratorGetNext:0' shape=(None, 10) dtype=string>, 'target_product_id': <tf.Tensor 'IteratorGetNext:2' shape=(None, 1) dtype=int32>}. Consider rewriting this model with the Functional API.\n",
            "WARNING:tensorflow:Layers in a Sequential model should only have a single input tensor. Received: inputs={'product_id': <tf.Tensor 'IteratorGetNext:1' shape=(None, 10) dtype=int32>, 'user_id': <tf.Tensor 'IteratorGetNext:3' shape=(None,) dtype=int64>, 'event_type': <tf.Tensor 'IteratorGetNext:0' shape=(None, 10) dtype=string>, 'target_product_id': <tf.Tensor 'IteratorGetNext:2' shape=(None, 1) dtype=int32>}. Consider rewriting this model with the Functional API.\n",
            "42/42 [==============================] - 503s 12s/step - map_1: 0.0000e+00 - map_10: 0.0000e+00 - map_100: 0.0000e+00 - ndcg_1: 0.0000e+00 - ndcg_10: 0.0000e+00 - ndcg_100: 0.0000e+00 - loss: 5693.3648 - regularization_loss: 0.0000e+00 - total_loss: 5693.3648 - val_map_1: 0.0366 - val_map_10: 0.0439 - val_map_100: 0.0486 - val_ndcg_1: 0.0366 - val_ndcg_10: 0.0494 - val_ndcg_100: 0.0781 - val_loss: nan - val_regularization_loss: 0.0000e+00 - val_total_loss: nan\n",
            "Epoch 6/50\n",
            "42/42 [==============================] - 353s 8s/step - map_1: 0.0000e+00 - map_10: 0.0000e+00 - map_100: 0.0000e+00 - ndcg_1: 0.0000e+00 - ndcg_10: 0.0000e+00 - ndcg_100: 0.0000e+00 - loss: 5508.0723 - regularization_loss: 0.0000e+00 - total_loss: 5508.0723\n",
            "Epoch 7/50\n",
            "42/42 [==============================] - 354s 8s/step - map_1: 0.0000e+00 - map_10: 0.0000e+00 - map_100: 0.0000e+00 - ndcg_1: 0.0000e+00 - ndcg_10: 0.0000e+00 - ndcg_100: 0.0000e+00 - loss: 5302.1644 - regularization_loss: 0.0000e+00 - total_loss: 5302.1644\n",
            "Epoch 8/50\n",
            "42/42 [==============================] - 351s 8s/step - map_1: 0.0000e+00 - map_10: 0.0000e+00 - map_100: 0.0000e+00 - ndcg_1: 0.0000e+00 - ndcg_10: 0.0000e+00 - ndcg_100: 0.0000e+00 - loss: 5122.3893 - regularization_loss: 0.0000e+00 - total_loss: 5122.3893\n",
            "Epoch 9/50\n",
            "42/42 [==============================] - 351s 8s/step - map_1: 0.0000e+00 - map_10: 0.0000e+00 - map_100: 0.0000e+00 - ndcg_1: 0.0000e+00 - ndcg_10: 0.0000e+00 - ndcg_100: 0.0000e+00 - loss: 4915.5297 - regularization_loss: 0.0000e+00 - total_loss: 4915.5297\n",
            "Epoch 10/50\n",
            "42/42 [==============================] - 501s 12s/step - map_1: 0.0000e+00 - map_10: 0.0000e+00 - map_100: 0.0000e+00 - ndcg_1: 0.0000e+00 - ndcg_10: 0.0000e+00 - ndcg_100: 0.0000e+00 - loss: 4710.2677 - regularization_loss: 0.0000e+00 - total_loss: 4710.2677 - val_map_1: 0.0472 - val_map_10: 0.0721 - val_map_100: 0.0803 - val_ndcg_1: 0.0467 - val_ndcg_10: 0.0899 - val_ndcg_100: 0.1343 - val_loss: nan - val_regularization_loss: 0.0000e+00 - val_total_loss: nan\n",
            "Epoch 11/50\n",
            "42/42 [==============================] - 352s 8s/step - map_1: 0.0000e+00 - map_10: 0.0000e+00 - map_100: 0.0000e+00 - ndcg_1: 0.0000e+00 - ndcg_10: 0.0000e+00 - ndcg_100: 0.0000e+00 - loss: 4518.7389 - regularization_loss: 0.0000e+00 - total_loss: 4518.7389\n",
            "Epoch 12/50\n",
            "42/42 [==============================] - 352s 8s/step - map_1: 0.0000e+00 - map_10: 0.0000e+00 - map_100: 0.0000e+00 - ndcg_1: 0.0000e+00 - ndcg_10: 0.0000e+00 - ndcg_100: 0.0000e+00 - loss: 4340.4700 - regularization_loss: 0.0000e+00 - total_loss: 4340.4700\n",
            "Epoch 13/50\n",
            "42/42 [==============================] - 352s 8s/step - map_1: 0.0000e+00 - map_10: 0.0000e+00 - map_100: 0.0000e+00 - ndcg_1: 0.0000e+00 - ndcg_10: 0.0000e+00 - ndcg_100: 0.0000e+00 - loss: 4146.8426 - regularization_loss: 0.0000e+00 - total_loss: 4146.8426\n",
            "Epoch 14/50\n",
            "42/42 [==============================] - 353s 8s/step - map_1: 0.0000e+00 - map_10: 0.0000e+00 - map_100: 0.0000e+00 - ndcg_1: 0.0000e+00 - ndcg_10: 0.0000e+00 - ndcg_100: 0.0000e+00 - loss: 4003.6901 - regularization_loss: 0.0000e+00 - total_loss: 4003.6901\n",
            "Epoch 15/50\n",
            "42/42 [==============================] - 504s 12s/step - map_1: 0.0000e+00 - map_10: 0.0000e+00 - map_100: 0.0000e+00 - ndcg_1: 0.0000e+00 - ndcg_10: 0.0000e+00 - ndcg_100: 0.0000e+00 - loss: 3788.9107 - regularization_loss: 0.0000e+00 - total_loss: 3788.9107 - val_map_1: 0.0511 - val_map_10: 0.0955 - val_map_100: 0.1041 - val_ndcg_1: 0.0509 - val_ndcg_10: 0.1232 - val_ndcg_100: 0.1699 - val_loss: nan - val_regularization_loss: 0.0000e+00 - val_total_loss: nan\n",
            "Epoch 16/50\n",
            "42/42 [==============================] - 353s 8s/step - map_1: 0.0000e+00 - map_10: 0.0000e+00 - map_100: 0.0000e+00 - ndcg_1: 0.0000e+00 - ndcg_10: 0.0000e+00 - ndcg_100: 0.0000e+00 - loss: 3659.2127 - regularization_loss: 0.0000e+00 - total_loss: 3659.2127\n",
            "Epoch 17/50\n",
            "42/42 [==============================] - 353s 8s/step - map_1: 0.0000e+00 - map_10: 0.0000e+00 - map_100: 0.0000e+00 - ndcg_1: 0.0000e+00 - ndcg_10: 0.0000e+00 - ndcg_100: 0.0000e+00 - loss: 3503.2703 - regularization_loss: 0.0000e+00 - total_loss: 3503.2703\n",
            "Epoch 18/50\n",
            "42/42 [==============================] - 352s 8s/step - map_1: 0.0000e+00 - map_10: 0.0000e+00 - map_100: 0.0000e+00 - ndcg_1: 0.0000e+00 - ndcg_10: 0.0000e+00 - ndcg_100: 0.0000e+00 - loss: 3327.9620 - regularization_loss: 0.0000e+00 - total_loss: 3327.9620\n",
            "Epoch 19/50\n",
            "42/42 [==============================] - 353s 8s/step - map_1: 0.0000e+00 - map_10: 0.0000e+00 - map_100: 0.0000e+00 - ndcg_1: 0.0000e+00 - ndcg_10: 0.0000e+00 - ndcg_100: 0.0000e+00 - loss: 3155.1581 - regularization_loss: 0.0000e+00 - total_loss: 3155.1581\n",
            "Epoch 20/50\n",
            "42/42 [==============================] - 501s 12s/step - map_1: 0.0000e+00 - map_10: 0.0000e+00 - map_100: 0.0000e+00 - ndcg_1: 0.0000e+00 - ndcg_10: 0.0000e+00 - ndcg_100: 0.0000e+00 - loss: 3033.9801 - regularization_loss: 0.0000e+00 - total_loss: 3033.9801 - val_map_1: 0.0649 - val_map_10: 0.1258 - val_map_100: 0.1343 - val_ndcg_1: 0.0653 - val_ndcg_10: 0.1582 - val_ndcg_100: 0.2048 - val_loss: nan - val_regularization_loss: 0.0000e+00 - val_total_loss: nan\n",
            "Epoch 21/50\n",
            "42/42 [==============================] - 353s 8s/step - map_1: 0.0000e+00 - map_10: 0.0000e+00 - map_100: 0.0000e+00 - ndcg_1: 0.0000e+00 - ndcg_10: 0.0000e+00 - ndcg_100: 0.0000e+00 - loss: 2861.2521 - regularization_loss: 0.0000e+00 - total_loss: 2861.2521\n",
            "Epoch 22/50\n",
            "42/42 [==============================] - 352s 8s/step - map_1: 0.0000e+00 - map_10: 0.0000e+00 - map_100: 0.0000e+00 - ndcg_1: 0.0000e+00 - ndcg_10: 0.0000e+00 - ndcg_100: 0.0000e+00 - loss: 2708.4631 - regularization_loss: 0.0000e+00 - total_loss: 2708.4631\n",
            "Epoch 23/50\n",
            "42/42 [==============================] - 352s 8s/step - map_1: 0.0000e+00 - map_10: 0.0000e+00 - map_100: 0.0000e+00 - ndcg_1: 0.0000e+00 - ndcg_10: 0.0000e+00 - ndcg_100: 0.0000e+00 - loss: 2562.4628 - regularization_loss: 0.0000e+00 - total_loss: 2562.4628\n",
            "Epoch 24/50\n",
            "42/42 [==============================] - 352s 8s/step - map_1: 0.0000e+00 - map_10: 0.0000e+00 - map_100: 0.0000e+00 - ndcg_1: 0.0000e+00 - ndcg_10: 0.0000e+00 - ndcg_100: 0.0000e+00 - loss: 2422.9243 - regularization_loss: 0.0000e+00 - total_loss: 2422.9243\n",
            "Epoch 25/50\n",
            "42/42 [==============================] - 504s 12s/step - map_1: 0.0000e+00 - map_10: 0.0000e+00 - map_100: 0.0000e+00 - ndcg_1: 0.0000e+00 - ndcg_10: 0.0000e+00 - ndcg_100: 0.0000e+00 - loss: 2271.4478 - regularization_loss: 0.0000e+00 - total_loss: 2271.4478 - val_map_1: 0.0739 - val_map_10: 0.1321 - val_map_100: 0.1406 - val_ndcg_1: 0.0739 - val_ndcg_10: 0.1637 - val_ndcg_100: 0.2143 - val_loss: nan - val_regularization_loss: 0.0000e+00 - val_total_loss: nan\n",
            "Epoch 26/50\n",
            "42/42 [==============================] - 353s 8s/step - map_1: 0.0000e+00 - map_10: 0.0000e+00 - map_100: 0.0000e+00 - ndcg_1: 0.0000e+00 - ndcg_10: 0.0000e+00 - ndcg_100: 0.0000e+00 - loss: 2134.5295 - regularization_loss: 0.0000e+00 - total_loss: 2134.5295\n",
            "Epoch 27/50\n",
            "42/42 [==============================] - 353s 8s/step - map_1: 0.0000e+00 - map_10: 0.0000e+00 - map_100: 0.0000e+00 - ndcg_1: 0.0000e+00 - ndcg_10: 0.0000e+00 - ndcg_100: 0.0000e+00 - loss: 2067.1913 - regularization_loss: 0.0000e+00 - total_loss: 2067.1913\n",
            "Epoch 28/50\n",
            "42/42 [==============================] - 353s 8s/step - map_1: 0.0000e+00 - map_10: 0.0000e+00 - map_100: 0.0000e+00 - ndcg_1: 0.0000e+00 - ndcg_10: 0.0000e+00 - ndcg_100: 0.0000e+00 - loss: 1887.6759 - regularization_loss: 0.0000e+00 - total_loss: 1887.6759\n",
            "Epoch 29/50\n",
            "42/42 [==============================] - 353s 8s/step - map_1: 0.0000e+00 - map_10: 0.0000e+00 - map_100: 0.0000e+00 - ndcg_1: 0.0000e+00 - ndcg_10: 0.0000e+00 - ndcg_100: 0.0000e+00 - loss: 1773.2393 - regularization_loss: 0.0000e+00 - total_loss: 1773.2393\n",
            "Epoch 30/50\n",
            "42/42 [==============================] - 503s 12s/step - map_1: 0.0000e+00 - map_10: 0.0000e+00 - map_100: 0.0000e+00 - ndcg_1: 0.0000e+00 - ndcg_10: 0.0000e+00 - ndcg_100: 0.0000e+00 - loss: 1668.8957 - regularization_loss: 0.0000e+00 - total_loss: 1668.8957 - val_map_1: 0.0756 - val_map_10: 0.1342 - val_map_100: 0.1433 - val_ndcg_1: 0.0761 - val_ndcg_10: 0.1677 - val_ndcg_100: 0.2176 - val_loss: nan - val_regularization_loss: 0.0000e+00 - val_total_loss: nan\n",
            "Epoch 31/50\n",
            "42/42 [==============================] - 353s 8s/step - map_1: 0.0000e+00 - map_10: 0.0000e+00 - map_100: 0.0000e+00 - ndcg_1: 0.0000e+00 - ndcg_10: 0.0000e+00 - ndcg_100: 0.0000e+00 - loss: 1541.6341 - regularization_loss: 0.0000e+00 - total_loss: 1541.6341\n",
            "Epoch 32/50\n",
            "42/42 [==============================] - 353s 8s/step - map_1: 0.0000e+00 - map_10: 0.0000e+00 - map_100: 0.0000e+00 - ndcg_1: 0.0000e+00 - ndcg_10: 0.0000e+00 - ndcg_100: 0.0000e+00 - loss: 1443.1163 - regularization_loss: 0.0000e+00 - total_loss: 1443.1163\n",
            "Epoch 33/50\n",
            "42/42 [==============================] - 353s 8s/step - map_1: 0.0000e+00 - map_10: 0.0000e+00 - map_100: 0.0000e+00 - ndcg_1: 0.0000e+00 - ndcg_10: 0.0000e+00 - ndcg_100: 0.0000e+00 - loss: 1337.7737 - regularization_loss: 0.0000e+00 - total_loss: 1337.7737\n",
            "Epoch 34/50\n",
            "42/42 [==============================] - 353s 8s/step - map_1: 0.0000e+00 - map_10: 0.0000e+00 - map_100: 0.0000e+00 - ndcg_1: 0.0000e+00 - ndcg_10: 0.0000e+00 - ndcg_100: 0.0000e+00 - loss: 1255.3891 - regularization_loss: 0.0000e+00 - total_loss: 1255.3891\n",
            "Epoch 35/50\n",
            "42/42 [==============================] - 500s 12s/step - map_1: 0.0000e+00 - map_10: 0.0000e+00 - map_100: 0.0000e+00 - ndcg_1: 0.0000e+00 - ndcg_10: 0.0000e+00 - ndcg_100: 0.0000e+00 - loss: 1170.9737 - regularization_loss: 0.0000e+00 - total_loss: 1170.9737 - val_map_1: 0.0800 - val_map_10: 0.1360 - val_map_100: 0.1449 - val_ndcg_1: 0.0799 - val_ndcg_10: 0.1682 - val_ndcg_100: 0.2188 - val_loss: nan - val_regularization_loss: 0.0000e+00 - val_total_loss: nan\n",
            "Epoch 36/50\n",
            "42/42 [==============================] - 354s 8s/step - map_1: 0.0000e+00 - map_10: 0.0000e+00 - map_100: 0.0000e+00 - ndcg_1: 0.0000e+00 - ndcg_10: 0.0000e+00 - ndcg_100: 0.0000e+00 - loss: 1068.0246 - regularization_loss: 0.0000e+00 - total_loss: 1068.0246\n",
            "Epoch 37/50\n",
            "42/42 [==============================] - 353s 8s/step - map_1: 0.0000e+00 - map_10: 0.0000e+00 - map_100: 0.0000e+00 - ndcg_1: 0.0000e+00 - ndcg_10: 0.0000e+00 - ndcg_100: 0.0000e+00 - loss: 983.5231 - regularization_loss: 0.0000e+00 - total_loss: 983.5231\n",
            "Epoch 38/50\n",
            "42/42 [==============================] - 353s 8s/step - map_1: 0.0000e+00 - map_10: 0.0000e+00 - map_100: 0.0000e+00 - ndcg_1: 0.0000e+00 - ndcg_10: 0.0000e+00 - ndcg_100: 0.0000e+00 - loss: 961.4974 - regularization_loss: 0.0000e+00 - total_loss: 961.4974\n",
            "Epoch 39/50\n",
            "42/42 [==============================] - 353s 8s/step - map_1: 0.0000e+00 - map_10: 0.0000e+00 - map_100: 0.0000e+00 - ndcg_1: 0.0000e+00 - ndcg_10: 0.0000e+00 - ndcg_100: 0.0000e+00 - loss: 902.8197 - regularization_loss: 0.0000e+00 - total_loss: 902.8197\n",
            "Epoch 40/50\n",
            "42/42 [==============================] - 503s 12s/step - map_1: 0.0000e+00 - map_10: 0.0000e+00 - map_100: 0.0000e+00 - ndcg_1: 0.0000e+00 - ndcg_10: 0.0000e+00 - ndcg_100: 0.0000e+00 - loss: 826.4997 - regularization_loss: 0.0000e+00 - total_loss: 826.4997 - val_map_1: 0.0738 - val_map_10: 0.1303 - val_map_100: 0.1398 - val_ndcg_1: 0.0737 - val_ndcg_10: 0.1625 - val_ndcg_100: 0.2154 - val_loss: nan - val_regularization_loss: 0.0000e+00 - val_total_loss: nan\n",
            "Epoch 41/50\n",
            "42/42 [==============================] - 355s 8s/step - map_1: 0.0000e+00 - map_10: 0.0000e+00 - map_100: 0.0000e+00 - ndcg_1: 0.0000e+00 - ndcg_10: 0.0000e+00 - ndcg_100: 0.0000e+00 - loss: 767.6636 - regularization_loss: 0.0000e+00 - total_loss: 767.6636\n",
            "Epoch 42/50\n",
            "42/42 [==============================] - 354s 8s/step - map_1: 0.0000e+00 - map_10: 0.0000e+00 - map_100: 0.0000e+00 - ndcg_1: 0.0000e+00 - ndcg_10: 0.0000e+00 - ndcg_100: 0.0000e+00 - loss: 722.2138 - regularization_loss: 0.0000e+00 - total_loss: 722.2138\n",
            "Epoch 43/50\n",
            "42/42 [==============================] - 352s 8s/step - map_1: 0.0000e+00 - map_10: 0.0000e+00 - map_100: 0.0000e+00 - ndcg_1: 0.0000e+00 - ndcg_10: 0.0000e+00 - ndcg_100: 0.0000e+00 - loss: 687.2549 - regularization_loss: 0.0000e+00 - total_loss: 687.2549\n",
            "Epoch 44/50\n",
            "42/42 [==============================] - 353s 8s/step - map_1: 0.0000e+00 - map_10: 0.0000e+00 - map_100: 0.0000e+00 - ndcg_1: 0.0000e+00 - ndcg_10: 0.0000e+00 - ndcg_100: 0.0000e+00 - loss: 656.7234 - regularization_loss: 0.0000e+00 - total_loss: 656.7234\n",
            "Epoch 45/50\n",
            "42/42 [==============================] - 504s 12s/step - map_1: 0.0000e+00 - map_10: 0.0000e+00 - map_100: 0.0000e+00 - ndcg_1: 0.0000e+00 - ndcg_10: 0.0000e+00 - ndcg_100: 0.0000e+00 - loss: 628.1617 - regularization_loss: 0.0000e+00 - total_loss: 628.1617 - val_map_1: 0.0726 - val_map_10: 0.1278 - val_map_100: 0.1373 - val_ndcg_1: 0.0734 - val_ndcg_10: 0.1602 - val_ndcg_100: 0.2131 - val_loss: nan - val_regularization_loss: 0.0000e+00 - val_total_loss: nan\n",
            "Epoch 46/50\n",
            "42/42 [==============================] - 356s 8s/step - map_1: 0.0000e+00 - map_10: 0.0000e+00 - map_100: 0.0000e+00 - ndcg_1: 0.0000e+00 - ndcg_10: 0.0000e+00 - ndcg_100: 0.0000e+00 - loss: 603.0765 - regularization_loss: 0.0000e+00 - total_loss: 603.0765\n",
            "Epoch 47/50\n",
            "42/42 [==============================] - 355s 8s/step - map_1: 0.0000e+00 - map_10: 0.0000e+00 - map_100: 0.0000e+00 - ndcg_1: 0.0000e+00 - ndcg_10: 0.0000e+00 - ndcg_100: 0.0000e+00 - loss: 583.0209 - regularization_loss: 0.0000e+00 - total_loss: 583.0209\n",
            "Epoch 48/50\n",
            "42/42 [==============================] - 354s 8s/step - map_1: 0.0000e+00 - map_10: 0.0000e+00 - map_100: 0.0000e+00 - ndcg_1: 0.0000e+00 - ndcg_10: 0.0000e+00 - ndcg_100: 0.0000e+00 - loss: 564.1744 - regularization_loss: 0.0000e+00 - total_loss: 564.1744\n",
            "Epoch 49/50\n",
            "42/42 [==============================] - 357s 9s/step - map_1: 0.0000e+00 - map_10: 0.0000e+00 - map_100: 0.0000e+00 - ndcg_1: 0.0000e+00 - ndcg_10: 0.0000e+00 - ndcg_100: 0.0000e+00 - loss: 546.5317 - regularization_loss: 0.0000e+00 - total_loss: 546.5317\n",
            "Epoch 50/50\n",
            "42/42 [==============================] - 508s 12s/step - map_1: 0.0000e+00 - map_10: 0.0000e+00 - map_100: 0.0000e+00 - ndcg_1: 0.0000e+00 - ndcg_10: 0.0000e+00 - ndcg_100: 0.0000e+00 - loss: 531.2463 - regularization_loss: 0.0000e+00 - total_loss: 531.2463 - val_map_1: 0.0710 - val_map_10: 0.1263 - val_map_100: 0.1357 - val_ndcg_1: 0.0713 - val_ndcg_10: 0.1584 - val_ndcg_100: 0.2110 - val_loss: nan - val_regularization_loss: 0.0000e+00 - val_total_loss: nan\n"
          ]
        }
      ]
    },
    {
      "cell_type": "code",
      "source": [
        "import matplotlib.pyplot as plt\n",
        "\n",
        "num_validation_runs = len(dge_ann_history.history[\"val_map_100\"])\n",
        "epochs = [(x + 1)* 5 for x in range(num_validation_runs)]\n",
        "\n",
        "plt.plot(epochs, dge_ann_history.history[\"val_map_100\"], label=\"MAP@100\")\n",
        "plt.plot(epochs, dge_ann_history.history[\"val_map_10\"], label=\"MAP@10\")\n",
        "#plt.plot(epochs, two_layer_history.history[\"val_factorized_top_k/top_100_categorical_accuracy\"], label=\"2 layers\")\n",
        "plt.title(\"MAP vs epoch\")\n",
        "plt.xlabel(\"epoch\")\n",
        "plt.ylabel(\"MAP\");\n",
        "plt.legend()"
      ],
      "metadata": {
        "id": "iAfp6TyzOxDE",
        "outputId": "362730a6-819d-4f35-bc21-eb366ed5e63a",
        "colab": {
          "base_uri": "https://localhost:8080/",
          "height": 312
        }
      },
      "execution_count": 27,
      "outputs": [
        {
          "output_type": "execute_result",
          "data": {
            "text/plain": [
              "<matplotlib.legend.Legend at 0x7fd1440c03d0>"
            ]
          },
          "metadata": {},
          "execution_count": 27
        },
        {
          "output_type": "display_data",
          "data": {
            "text/plain": [
              "<Figure size 432x288 with 1 Axes>"
            ],
            "image/png": "[encoded data removed]"
          },
          "metadata": {
            "needs_background": "light"
          }
        }
      ]
    },
    {
      "cell_type": "code",
      "source": [
        "query_dcn_model = QueryModel(\n",
        "    deep_model_layer_sizes=deep_layer_sizes, \n",
        "    use_cross_layer=True, \n",
        "    position_embeddings='absolute', \n",
        "    embedding_type='neighbor',\n",
        "    embedding_dim=embedding_dim,\n",
        "    embeddings_initializer=tf.keras.initializers.Constant(item_embeddings),\n",
        "    known_items_relations=adjacency_matrix,\n",
        "    sequence_length=10)\n",
        "\n",
        "candidate_model = tf.keras.models.Sequential([\n",
        "    PlainEmbeddingModel(\n",
        "      feature_name=\"target_product_id\", \n",
        "      embedding_dim=embedding_dim,\n",
        "      feature_type=items_feature_type, \n",
        "      feature_vocab=items_vocab,\n",
        "    ),\n",
        "    tf.keras.layers.GlobalAveragePooling1D()\n",
        "])\n",
        "\n",
        "dge_ann_dcn_model = RetrievalModel(\n",
        "      query_model=query_model,\n",
        "      candidate_model=candidate_model,\n",
        "      candidate_pool=tf.data.Dataset.from_tensor_slices({\"target_product_id\": items_vocab[..., np.newaxis]})\n",
        "    )"
      ],
      "metadata": {
        "id": "kGeWjbAfpUDX",
        "outputId": "e3ced9ba-fed8-485f-8150-dce571770cf2",
        "colab": {
          "base_uri": "https://localhost:8080/"
        }
      },
      "execution_count": 13,
      "outputs": [
        {
          "output_type": "stream",
          "name": "stdout",
          "text": [
            "WARNING:tensorflow:Layers in a Sequential model should only have a single input tensor. Received: inputs={'target_product_id': <tf.Tensor 'args_0:0' shape=(None, 1) dtype=int64>}. Consider rewriting this model with the Functional API.\n"
          ]
        }
      ]
    },
    {
      "cell_type": "code",
      "source": [
        "dge_ann_dcn_model.compile(optimizer=tf.keras.optimizers.Adagrad(0.01))\n",
        "\n",
        "dge_ann_dcn_history = dge_ann_dcn_model.fit(\n",
        "    train_dataset,\n",
        "    validation_data=test_dataset,\n",
        "    validation_freq=5,\n",
        "    epochs=50,\n",
        "    verbose=1)"
      ],
      "metadata": {
        "id": "cjBc6Vmwprhe",
        "outputId": "c661e4fc-6015-430f-a2f3-f55333469c95",
        "colab": {
          "base_uri": "https://localhost:8080/"
        }
      },
      "execution_count": 14,
      "outputs": [
        {
          "output_type": "stream",
          "name": "stdout",
          "text": [
            "Epoch 1/50\n",
            "WARNING:tensorflow:Layers in a Sequential model should only have a single input tensor. Received: inputs={'user_id': <tf.Tensor 'IteratorGetNext:3' shape=(None,) dtype=int64>, 'event_type': <tf.Tensor 'IteratorGetNext:0' shape=(None, 10) dtype=string>, 'product_id': <tf.Tensor 'IteratorGetNext:1' shape=(None, 10) dtype=int32>, 'target_product_id': <tf.Tensor 'IteratorGetNext:2' shape=(None, 1) dtype=int32>}. Consider rewriting this model with the Functional API.\n",
            "WARNING:tensorflow:Layers in a Sequential model should only have a single input tensor. Received: inputs={'user_id': <tf.Tensor 'IteratorGetNext:3' shape=(None,) dtype=int64>, 'event_type': <tf.Tensor 'IteratorGetNext:0' shape=(None, 10) dtype=string>, 'product_id': <tf.Tensor 'IteratorGetNext:1' shape=(None, 10) dtype=int32>, 'target_product_id': <tf.Tensor 'IteratorGetNext:2' shape=(None, 1) dtype=int32>}. Consider rewriting this model with the Functional API.\n",
            "WARNING:tensorflow:Layers in a Sequential model should only have a single input tensor. Received: inputs={'user_id': <tf.Tensor 'IteratorGetNext:3' shape=(None,) dtype=int64>, 'event_type': <tf.Tensor 'IteratorGetNext:0' shape=(None, 10) dtype=string>, 'product_id': <tf.Tensor 'IteratorGetNext:1' shape=(None, 10) dtype=int32>, 'target_product_id': <tf.Tensor 'IteratorGetNext:2' shape=(None, 1) dtype=int32>}. Consider rewriting this model with the Functional API.\n",
            "WARNING:tensorflow:Layers in a Sequential model should only have a single input tensor. Received: inputs={'user_id': <tf.Tensor 'IteratorGetNext:3' shape=(None,) dtype=int64>, 'event_type': <tf.Tensor 'IteratorGetNext:0' shape=(None, 10) dtype=string>, 'product_id': <tf.Tensor 'IteratorGetNext:1' shape=(None, 10) dtype=int32>, 'target_product_id': <tf.Tensor 'IteratorGetNext:2' shape=(None, 1) dtype=int32>}. Consider rewriting this model with the Functional API.\n",
            "42/42 [==============================] - 359s 8s/step - map_1: 0.0000e+00 - map_10: 0.0000e+00 - map_100: 0.0000e+00 - ndcg_1: 0.0000e+00 - ndcg_10: 0.0000e+00 - ndcg_100: 0.0000e+00 - loss: 6785.0440 - regularization_loss: 0.0000e+00 - total_loss: 6785.0440\n",
            "Epoch 2/50\n",
            "42/42 [==============================] - 349s 8s/step - map_1: 0.0000e+00 - map_10: 0.0000e+00 - map_100: 0.0000e+00 - ndcg_1: 0.0000e+00 - ndcg_10: 0.0000e+00 - ndcg_100: 0.0000e+00 - loss: 6319.2999 - regularization_loss: 0.0000e+00 - total_loss: 6319.2999\n",
            "Epoch 3/50\n",
            "42/42 [==============================] - 349s 8s/step - map_1: 0.0000e+00 - map_10: 0.0000e+00 - map_100: 0.0000e+00 - ndcg_1: 0.0000e+00 - ndcg_10: 0.0000e+00 - ndcg_100: 0.0000e+00 - loss: 6005.6652 - regularization_loss: 0.0000e+00 - total_loss: 6005.6652\n",
            "Epoch 4/50\n",
            "42/42 [==============================] - 347s 8s/step - map_1: 0.0000e+00 - map_10: 0.0000e+00 - map_100: 0.0000e+00 - ndcg_1: 0.0000e+00 - ndcg_10: 0.0000e+00 - ndcg_100: 0.0000e+00 - loss: 5738.8504 - regularization_loss: 0.0000e+00 - total_loss: 5738.8504\n",
            "Epoch 5/50\n",
            "42/42 [==============================] - ETA: 0s - map_1: 0.0000e+00 - map_10: 0.0000e+00 - map_100: 0.0000e+00 - ndcg_1: 0.0000e+00 - ndcg_10: 0.0000e+00 - ndcg_100: 0.0000e+00 - loss: 5565.5760 - regularization_loss: 0.0000e+00 - total_loss: 5565.5760WARNING:tensorflow:Layers in a Sequential model should only have a single input tensor. Received: inputs={'product_id': <tf.Tensor 'IteratorGetNext:1' shape=(None, 10) dtype=int32>, 'user_id': <tf.Tensor 'IteratorGetNext:3' shape=(None,) dtype=int64>, 'event_type': <tf.Tensor 'IteratorGetNext:0' shape=(None, 10) dtype=string>, 'target_product_id': <tf.Tensor 'IteratorGetNext:2' shape=(None, 1) dtype=int32>}. Consider rewriting this model with the Functional API.\n",
            "WARNING:tensorflow:Layers in a Sequential model should only have a single input tensor. Received: inputs={'product_id': <tf.Tensor 'IteratorGetNext:1' shape=(None, 10) dtype=int32>, 'user_id': <tf.Tensor 'IteratorGetNext:3' shape=(None,) dtype=int64>, 'event_type': <tf.Tensor 'IteratorGetNext:0' shape=(None, 10) dtype=string>, 'target_product_id': <tf.Tensor 'IteratorGetNext:2' shape=(None, 1) dtype=int32>}. Consider rewriting this model with the Functional API.\n",
            "42/42 [==============================] - 501s 12s/step - map_1: 0.0000e+00 - map_10: 0.0000e+00 - map_100: 0.0000e+00 - ndcg_1: 0.0000e+00 - ndcg_10: 0.0000e+00 - ndcg_100: 0.0000e+00 - loss: 5508.7034 - regularization_loss: 0.0000e+00 - total_loss: 5508.7034 - val_map_1: 0.0396 - val_map_10: 0.0529 - val_map_100: 0.0600 - val_ndcg_1: 0.0394 - val_ndcg_10: 0.0623 - val_ndcg_100: 0.1022 - val_loss: nan - val_regularization_loss: 0.0000e+00 - val_total_loss: nan\n",
            "Epoch 6/50\n",
            "42/42 [==============================] - 349s 8s/step - map_1: 0.0000e+00 - map_10: 0.0000e+00 - map_100: 0.0000e+00 - ndcg_1: 0.0000e+00 - ndcg_10: 0.0000e+00 - ndcg_100: 0.0000e+00 - loss: 5286.1713 - regularization_loss: 0.0000e+00 - total_loss: 5286.1713\n",
            "Epoch 7/50\n",
            "42/42 [==============================] - 349s 8s/step - map_1: 0.0000e+00 - map_10: 0.0000e+00 - map_100: 0.0000e+00 - ndcg_1: 0.0000e+00 - ndcg_10: 0.0000e+00 - ndcg_100: 0.0000e+00 - loss: 5046.0024 - regularization_loss: 0.0000e+00 - total_loss: 5046.0024\n",
            "Epoch 8/50\n",
            "42/42 [==============================] - 349s 8s/step - map_1: 0.0000e+00 - map_10: 0.0000e+00 - map_100: 0.0000e+00 - ndcg_1: 0.0000e+00 - ndcg_10: 0.0000e+00 - ndcg_100: 0.0000e+00 - loss: 4860.1666 - regularization_loss: 0.0000e+00 - total_loss: 4860.1666\n",
            "Epoch 9/50\n",
            "42/42 [==============================] - 349s 8s/step - map_1: 0.0000e+00 - map_10: 0.0000e+00 - map_100: 0.0000e+00 - ndcg_1: 0.0000e+00 - ndcg_10: 0.0000e+00 - ndcg_100: 0.0000e+00 - loss: 4635.6747 - regularization_loss: 0.0000e+00 - total_loss: 4635.6747\n",
            "Epoch 10/50\n",
            "42/42 [==============================] - 497s 12s/step - map_1: 0.0000e+00 - map_10: 0.0000e+00 - map_100: 0.0000e+00 - ndcg_1: 0.0000e+00 - ndcg_10: 0.0000e+00 - ndcg_100: 0.0000e+00 - loss: 4433.5623 - regularization_loss: 0.0000e+00 - total_loss: 4433.5623 - val_map_1: 0.0515 - val_map_10: 0.0898 - val_map_100: 0.0966 - val_ndcg_1: 0.0522 - val_ndcg_10: 0.1145 - val_ndcg_100: 0.1517 - val_loss: nan - val_regularization_loss: 0.0000e+00 - val_total_loss: nan\n",
            "Epoch 11/50\n",
            "42/42 [==============================] - 349s 8s/step - map_1: 0.0000e+00 - map_10: 0.0000e+00 - map_100: 0.0000e+00 - ndcg_1: 0.0000e+00 - ndcg_10: 0.0000e+00 - ndcg_100: 0.0000e+00 - loss: 4229.0832 - regularization_loss: 0.0000e+00 - total_loss: 4229.0832\n",
            "Epoch 12/50\n",
            "42/42 [==============================] - 352s 8s/step - map_1: 0.0000e+00 - map_10: 0.0000e+00 - map_100: 0.0000e+00 - ndcg_1: 0.0000e+00 - ndcg_10: 0.0000e+00 - ndcg_100: 0.0000e+00 - loss: 4039.7618 - regularization_loss: 0.0000e+00 - total_loss: 4039.7618\n",
            "Epoch 13/50\n",
            "42/42 [==============================] - 351s 8s/step - map_1: 0.0000e+00 - map_10: 0.0000e+00 - map_100: 0.0000e+00 - ndcg_1: 0.0000e+00 - ndcg_10: 0.0000e+00 - ndcg_100: 0.0000e+00 - loss: 3868.1980 - regularization_loss: 0.0000e+00 - total_loss: 3868.1980\n",
            "Epoch 14/50\n",
            "42/42 [==============================] - 350s 8s/step - map_1: 0.0000e+00 - map_10: 0.0000e+00 - map_100: 0.0000e+00 - ndcg_1: 0.0000e+00 - ndcg_10: 0.0000e+00 - ndcg_100: 0.0000e+00 - loss: 3665.4449 - regularization_loss: 0.0000e+00 - total_loss: 3665.4449\n",
            "Epoch 15/50\n",
            "42/42 [==============================] - 497s 12s/step - map_1: 0.0000e+00 - map_10: 0.0000e+00 - map_100: 0.0000e+00 - ndcg_1: 0.0000e+00 - ndcg_10: 0.0000e+00 - ndcg_100: 0.0000e+00 - loss: 3532.2247 - regularization_loss: 0.0000e+00 - total_loss: 3532.2247 - val_map_1: 0.0732 - val_map_10: 0.1313 - val_map_100: 0.1391 - val_ndcg_1: 0.0734 - val_ndcg_10: 0.1627 - val_ndcg_100: 0.2032 - val_loss: nan - val_regularization_loss: 0.0000e+00 - val_total_loss: nan\n",
            "Epoch 16/50\n",
            "42/42 [==============================] - 351s 8s/step - map_1: 0.0000e+00 - map_10: 0.0000e+00 - map_100: 0.0000e+00 - ndcg_1: 0.0000e+00 - ndcg_10: 0.0000e+00 - ndcg_100: 0.0000e+00 - loss: 3319.8044 - regularization_loss: 0.0000e+00 - total_loss: 3319.8044\n",
            "Epoch 17/50\n",
            "42/42 [==============================] - 350s 8s/step - map_1: 0.0000e+00 - map_10: 0.0000e+00 - map_100: 0.0000e+00 - ndcg_1: 0.0000e+00 - ndcg_10: 0.0000e+00 - ndcg_100: 0.0000e+00 - loss: 3174.6287 - regularization_loss: 0.0000e+00 - total_loss: 3174.6287\n",
            "Epoch 18/50\n",
            "42/42 [==============================] - 348s 8s/step - map_1: 0.0000e+00 - map_10: 0.0000e+00 - map_100: 0.0000e+00 - ndcg_1: 0.0000e+00 - ndcg_10: 0.0000e+00 - ndcg_100: 0.0000e+00 - loss: 3009.0852 - regularization_loss: 0.0000e+00 - total_loss: 3009.0852\n",
            "Epoch 19/50\n",
            "42/42 [==============================] - 348s 8s/step - map_1: 0.0000e+00 - map_10: 0.0000e+00 - map_100: 0.0000e+00 - ndcg_1: 0.0000e+00 - ndcg_10: 0.0000e+00 - ndcg_100: 0.0000e+00 - loss: 2851.6916 - regularization_loss: 0.0000e+00 - total_loss: 2851.6916\n",
            "Epoch 20/50\n",
            "42/42 [==============================] - 497s 12s/step - map_1: 0.0000e+00 - map_10: 0.0000e+00 - map_100: 0.0000e+00 - ndcg_1: 0.0000e+00 - ndcg_10: 0.0000e+00 - ndcg_100: 0.0000e+00 - loss: 2688.5236 - regularization_loss: 0.0000e+00 - total_loss: 2688.5236 - val_map_1: 0.0862 - val_map_10: 0.1556 - val_map_100: 0.1635 - val_ndcg_1: 0.0866 - val_ndcg_10: 0.1924 - val_ndcg_100: 0.2337 - val_loss: nan - val_regularization_loss: 0.0000e+00 - val_total_loss: nan\n",
            "Epoch 21/50\n",
            "42/42 [==============================] - 349s 8s/step - map_1: 0.0000e+00 - map_10: 0.0000e+00 - map_100: 0.0000e+00 - ndcg_1: 0.0000e+00 - ndcg_10: 0.0000e+00 - ndcg_100: 0.0000e+00 - loss: 2544.3000 - regularization_loss: 0.0000e+00 - total_loss: 2544.3000\n",
            "Epoch 22/50\n",
            "42/42 [==============================] - 348s 8s/step - map_1: 0.0000e+00 - map_10: 0.0000e+00 - map_100: 0.0000e+00 - ndcg_1: 0.0000e+00 - ndcg_10: 0.0000e+00 - ndcg_100: 0.0000e+00 - loss: 2435.2213 - regularization_loss: 0.0000e+00 - total_loss: 2435.2213\n",
            "Epoch 23/50\n",
            "42/42 [==============================] - 348s 8s/step - map_1: 0.0000e+00 - map_10: 0.0000e+00 - map_100: 0.0000e+00 - ndcg_1: 0.0000e+00 - ndcg_10: 0.0000e+00 - ndcg_100: 0.0000e+00 - loss: 2253.3208 - regularization_loss: 0.0000e+00 - total_loss: 2253.3208\n",
            "Epoch 24/50\n",
            "42/42 [==============================] - 348s 8s/step - map_1: 0.0000e+00 - map_10: 0.0000e+00 - map_100: 0.0000e+00 - ndcg_1: 0.0000e+00 - ndcg_10: 0.0000e+00 - ndcg_100: 0.0000e+00 - loss: 2108.3859 - regularization_loss: 0.0000e+00 - total_loss: 2108.3859\n",
            "Epoch 25/50\n",
            "42/42 [==============================] - 496s 12s/step - map_1: 0.0000e+00 - map_10: 0.0000e+00 - map_100: 0.0000e+00 - ndcg_1: 0.0000e+00 - ndcg_10: 0.0000e+00 - ndcg_100: 0.0000e+00 - loss: 1980.6443 - regularization_loss: 0.0000e+00 - total_loss: 1980.6443 - val_map_1: 0.0918 - val_map_10: 0.1682 - val_map_100: 0.1757 - val_ndcg_1: 0.0915 - val_ndcg_10: 0.2073 - val_ndcg_100: 0.2494 - val_loss: nan - val_regularization_loss: 0.0000e+00 - val_total_loss: nan\n",
            "Epoch 26/50\n",
            "42/42 [==============================] - 349s 8s/step - map_1: 0.0000e+00 - map_10: 0.0000e+00 - map_100: 0.0000e+00 - ndcg_1: 0.0000e+00 - ndcg_10: 0.0000e+00 - ndcg_100: 0.0000e+00 - loss: 1852.3187 - regularization_loss: 0.0000e+00 - total_loss: 1852.3187\n",
            "Epoch 27/50\n",
            "42/42 [==============================] - 349s 8s/step - map_1: 0.0000e+00 - map_10: 0.0000e+00 - map_100: 0.0000e+00 - ndcg_1: 0.0000e+00 - ndcg_10: 0.0000e+00 - ndcg_100: 0.0000e+00 - loss: 1749.6593 - regularization_loss: 0.0000e+00 - total_loss: 1749.6593\n",
            "Epoch 28/50\n",
            "42/42 [==============================] - 349s 8s/step - map_1: 0.0000e+00 - map_10: 0.0000e+00 - map_100: 0.0000e+00 - ndcg_1: 0.0000e+00 - ndcg_10: 0.0000e+00 - ndcg_100: 0.0000e+00 - loss: 1640.8938 - regularization_loss: 0.0000e+00 - total_loss: 1640.8938\n",
            "Epoch 29/50\n",
            "42/42 [==============================] - 349s 8s/step - map_1: 0.0000e+00 - map_10: 0.0000e+00 - map_100: 0.0000e+00 - ndcg_1: 0.0000e+00 - ndcg_10: 0.0000e+00 - ndcg_100: 0.0000e+00 - loss: 1543.6316 - regularization_loss: 0.0000e+00 - total_loss: 1543.6316\n",
            "Epoch 30/50\n",
            "42/42 [==============================] - 500s 12s/step - map_1: 0.0000e+00 - map_10: 0.0000e+00 - map_100: 0.0000e+00 - ndcg_1: 0.0000e+00 - ndcg_10: 0.0000e+00 - ndcg_100: 0.0000e+00 - loss: 1450.2841 - regularization_loss: 0.0000e+00 - total_loss: 1450.2841 - val_map_1: 0.0999 - val_map_10: 0.1769 - val_map_100: 0.1850 - val_ndcg_1: 0.1001 - val_ndcg_10: 0.2171 - val_ndcg_100: 0.2602 - val_loss: nan - val_regularization_loss: 0.0000e+00 - val_total_loss: nan\n",
            "Epoch 31/50\n",
            "42/42 [==============================] - 350s 8s/step - map_1: 0.0000e+00 - map_10: 0.0000e+00 - map_100: 0.0000e+00 - ndcg_1: 0.0000e+00 - ndcg_10: 0.0000e+00 - ndcg_100: 0.0000e+00 - loss: 1339.3755 - regularization_loss: 0.0000e+00 - total_loss: 1339.3755\n",
            "Epoch 32/50\n",
            "42/42 [==============================] - 350s 8s/step - map_1: 0.0000e+00 - map_10: 0.0000e+00 - map_100: 0.0000e+00 - ndcg_1: 0.0000e+00 - ndcg_10: 0.0000e+00 - ndcg_100: 0.0000e+00 - loss: 1256.1967 - regularization_loss: 0.0000e+00 - total_loss: 1256.1967\n",
            "Epoch 33/50\n",
            "42/42 [==============================] - 349s 8s/step - map_1: 0.0000e+00 - map_10: 0.0000e+00 - map_100: 0.0000e+00 - ndcg_1: 0.0000e+00 - ndcg_10: 0.0000e+00 - ndcg_100: 0.0000e+00 - loss: 1189.5994 - regularization_loss: 0.0000e+00 - total_loss: 1189.5994\n",
            "Epoch 34/50\n",
            "42/42 [==============================] - 348s 8s/step - map_1: 0.0000e+00 - map_10: 0.0000e+00 - map_100: 0.0000e+00 - ndcg_1: 0.0000e+00 - ndcg_10: 0.0000e+00 - ndcg_100: 0.0000e+00 - loss: 1118.1455 - regularization_loss: 0.0000e+00 - total_loss: 1118.1455\n",
            "Epoch 35/50\n",
            "42/42 [==============================] - 495s 12s/step - map_1: 0.0000e+00 - map_10: 0.0000e+00 - map_100: 0.0000e+00 - ndcg_1: 0.0000e+00 - ndcg_10: 0.0000e+00 - ndcg_100: 0.0000e+00 - loss: 1037.7452 - regularization_loss: 0.0000e+00 - total_loss: 1037.7452 - val_map_1: 0.0977 - val_map_10: 0.1778 - val_map_100: 0.1863 - val_ndcg_1: 0.0991 - val_ndcg_10: 0.2180 - val_ndcg_100: 0.2617 - val_loss: nan - val_regularization_loss: 0.0000e+00 - val_total_loss: nan\n",
            "Epoch 36/50\n",
            "42/42 [==============================] - 350s 8s/step - map_1: 0.0000e+00 - map_10: 0.0000e+00 - map_100: 0.0000e+00 - ndcg_1: 0.0000e+00 - ndcg_10: 0.0000e+00 - ndcg_100: 0.0000e+00 - loss: 963.9143 - regularization_loss: 0.0000e+00 - total_loss: 963.9143\n",
            "Epoch 37/50\n",
            "42/42 [==============================] - 349s 8s/step - map_1: 0.0000e+00 - map_10: 0.0000e+00 - map_100: 0.0000e+00 - ndcg_1: 0.0000e+00 - ndcg_10: 0.0000e+00 - ndcg_100: 0.0000e+00 - loss: 909.2892 - regularization_loss: 0.0000e+00 - total_loss: 909.2892\n",
            "Epoch 38/50\n",
            "42/42 [==============================] - 351s 8s/step - map_1: 0.0000e+00 - map_10: 0.0000e+00 - map_100: 0.0000e+00 - ndcg_1: 0.0000e+00 - ndcg_10: 0.0000e+00 - ndcg_100: 0.0000e+00 - loss: 858.6560 - regularization_loss: 0.0000e+00 - total_loss: 858.6560\n",
            "Epoch 39/50\n",
            "42/42 [==============================] - 350s 8s/step - map_1: 0.0000e+00 - map_10: 0.0000e+00 - map_100: 0.0000e+00 - ndcg_1: 0.0000e+00 - ndcg_10: 0.0000e+00 - ndcg_100: 0.0000e+00 - loss: 807.8173 - regularization_loss: 0.0000e+00 - total_loss: 807.8173\n",
            "Epoch 40/50\n",
            "42/42 [==============================] - 499s 12s/step - map_1: 0.0000e+00 - map_10: 0.0000e+00 - map_100: 0.0000e+00 - ndcg_1: 0.0000e+00 - ndcg_10: 0.0000e+00 - ndcg_100: 0.0000e+00 - loss: 766.5064 - regularization_loss: 0.0000e+00 - total_loss: 766.5064 - val_map_1: 0.1018 - val_map_10: 0.1794 - val_map_100: 0.1876 - val_ndcg_1: 0.1020 - val_ndcg_10: 0.2199 - val_ndcg_100: 0.2635 - val_loss: nan - val_regularization_loss: 0.0000e+00 - val_total_loss: nan\n",
            "Epoch 41/50\n",
            "42/42 [==============================] - 352s 8s/step - map_1: 0.0000e+00 - map_10: 0.0000e+00 - map_100: 0.0000e+00 - ndcg_1: 0.0000e+00 - ndcg_10: 0.0000e+00 - ndcg_100: 0.0000e+00 - loss: 732.8768 - regularization_loss: 0.0000e+00 - total_loss: 732.8768\n",
            "Epoch 42/50\n",
            "42/42 [==============================] - 352s 8s/step - map_1: 0.0000e+00 - map_10: 0.0000e+00 - map_100: 0.0000e+00 - ndcg_1: 0.0000e+00 - ndcg_10: 0.0000e+00 - ndcg_100: 0.0000e+00 - loss: 697.0306 - regularization_loss: 0.0000e+00 - total_loss: 697.0306\n",
            "Epoch 43/50\n",
            "42/42 [==============================] - 350s 8s/step - map_1: 0.0000e+00 - map_10: 0.0000e+00 - map_100: 0.0000e+00 - ndcg_1: 0.0000e+00 - ndcg_10: 0.0000e+00 - ndcg_100: 0.0000e+00 - loss: 666.7321 - regularization_loss: 0.0000e+00 - total_loss: 666.7321\n",
            "Epoch 44/50\n",
            "42/42 [==============================] - 349s 8s/step - map_1: 0.0000e+00 - map_10: 0.0000e+00 - map_100: 0.0000e+00 - ndcg_1: 0.0000e+00 - ndcg_10: 0.0000e+00 - ndcg_100: 0.0000e+00 - loss: 641.3340 - regularization_loss: 0.0000e+00 - total_loss: 641.3340\n",
            "Epoch 45/50\n",
            "42/42 [==============================] - 497s 12s/step - map_1: 0.0000e+00 - map_10: 0.0000e+00 - map_100: 0.0000e+00 - ndcg_1: 0.0000e+00 - ndcg_10: 0.0000e+00 - ndcg_100: 0.0000e+00 - loss: 622.0887 - regularization_loss: 0.0000e+00 - total_loss: 622.0887 - val_map_1: 0.0988 - val_map_10: 0.1779 - val_map_100: 0.1858 - val_ndcg_1: 0.0986 - val_ndcg_10: 0.2180 - val_ndcg_100: 0.2618 - val_loss: nan - val_regularization_loss: 0.0000e+00 - val_total_loss: nan\n",
            "Epoch 46/50\n",
            "42/42 [==============================] - 349s 8s/step - map_1: 0.0000e+00 - map_10: 0.0000e+00 - map_100: 0.0000e+00 - ndcg_1: 0.0000e+00 - ndcg_10: 0.0000e+00 - ndcg_100: 0.0000e+00 - loss: 598.0997 - regularization_loss: 0.0000e+00 - total_loss: 598.0997\n",
            "Epoch 47/50\n",
            "42/42 [==============================] - 349s 8s/step - map_1: 0.0000e+00 - map_10: 0.0000e+00 - map_100: 0.0000e+00 - ndcg_1: 0.0000e+00 - ndcg_10: 0.0000e+00 - ndcg_100: 0.0000e+00 - loss: 580.0412 - regularization_loss: 0.0000e+00 - total_loss: 580.0412\n",
            "Epoch 48/50\n",
            "42/42 [==============================] - 348s 8s/step - map_1: 0.0000e+00 - map_10: 0.0000e+00 - map_100: 0.0000e+00 - ndcg_1: 0.0000e+00 - ndcg_10: 0.0000e+00 - ndcg_100: 0.0000e+00 - loss: 562.5663 - regularization_loss: 0.0000e+00 - total_loss: 562.5663\n",
            "Epoch 49/50\n",
            "42/42 [==============================] - 348s 8s/step - map_1: 0.0000e+00 - map_10: 0.0000e+00 - map_100: 0.0000e+00 - ndcg_1: 0.0000e+00 - ndcg_10: 0.0000e+00 - ndcg_100: 0.0000e+00 - loss: 549.6431 - regularization_loss: 0.0000e+00 - total_loss: 549.6431\n",
            "Epoch 50/50\n",
            "42/42 [==============================] - 497s 12s/step - map_1: 0.0000e+00 - map_10: 0.0000e+00 - map_100: 0.0000e+00 - ndcg_1: 0.0000e+00 - ndcg_10: 0.0000e+00 - ndcg_100: 0.0000e+00 - loss: 537.5032 - regularization_loss: 0.0000e+00 - total_loss: 537.5032 - val_map_1: 0.0925 - val_map_10: 0.1711 - val_map_100: 0.1789 - val_ndcg_1: 0.0913 - val_ndcg_10: 0.2124 - val_ndcg_100: 0.2569 - val_loss: nan - val_regularization_loss: 0.0000e+00 - val_total_loss: nan\n"
          ]
        }
      ]
    },
    {
      "cell_type": "code",
      "source": [
        "import matplotlib.pyplot as plt\n",
        "\n",
        "num_validation_runs = len(dge_ann_dcn_history.history[\"val_map_100\"])\n",
        "epochs = [(x + 1)* 5 for x in range(num_validation_runs)]\n",
        "\n",
        "plt.plot(epochs, dge_ann_dcn_history.history[\"val_map_100\"], label=\"MAP@100\")\n",
        "plt.plot(epochs, dge_ann_dcn_history.history[\"val_map_10\"], label=\"MAP@10\")\n",
        "#plt.plot(epochs, two_layer_history.history[\"val_factorized_top_k/top_100_categorical_accuracy\"], label=\"2 layers\")\n",
        "plt.title(\"MAP vs epoch\")\n",
        "plt.xlabel(\"epoch\")\n",
        "plt.ylabel(\"MAP\");\n",
        "plt.legend()"
      ],
      "metadata": {
        "id": "Z85QmCJNpzwd",
        "outputId": "86d4e768-c463-4ad7-cc75-a6f87b1cbd3e",
        "colab": {
          "base_uri": "https://localhost:8080/",
          "height": 312
        }
      },
      "execution_count": 16,
      "outputs": [
        {
          "output_type": "execute_result",
          "data": {
            "text/plain": [
              "<matplotlib.legend.Legend at 0x7fd130f4fe50>"
            ]
          },
          "metadata": {},
          "execution_count": 16
        },
        {
          "output_type": "display_data",
          "data": {
            "text/plain": [
              "<Figure size 432x288 with 1 Axes>"
            ],
            "image/png": "[encoded data removed]"
          },
          "metadata": {
            "needs_background": "light"
          }
        }
      ]
    },
    {
      "cell_type": "code",
      "source": [
        "class LSTMQueryModel(tf.keras.Model):\n",
        "  \"\"\"Model for encoding user queries.\"\"\"\n",
        "\n",
        "  def __init__(self, \n",
        "               deep_model_layer_sizes: tp.List[str], \n",
        "               embedding_dim: int,\n",
        "               **embedding_kwargs,\n",
        "               ):\n",
        "    \"\"\"Model for encoding user queries.\n",
        "\n",
        "    Args:\n",
        "      deep_model_layer_sizes:\n",
        "        A list of integers where the i-th entry represents the number of units\n",
        "        the i-th layer contains.\n",
        "    \"\"\"\n",
        "    super().__init__()\n",
        "    # We first use the user model for generating embeddings.\n",
        "    self.user_model = PlainEmbeddingModel(\n",
        "        feature_name=\"user_id\", \n",
        "        feature_type=users_feature_type, \n",
        "        feature_vocab=users_vocab, \n",
        "        embedding_dim=embedding_dim)\n",
        "    self.event_type_model = tf.keras.models.Sequential(\n",
        "        [\n",
        "         PlainEmbeddingModel(\n",
        "          feature_name=\"event_type\", \n",
        "          feature_type=events_feature_type, \n",
        "          feature_vocab=events_vocab, \n",
        "          embedding_dim=embedding_dim,\n",
        "          ),\n",
        "         tf.keras.layers.GlobalAveragePooling1D()\n",
        "        ]\n",
        "        )\n",
        "    self.item_history = LSTMEmbeddingModel(\n",
        "        feature_name=\"product_id\", \n",
        "        feature_type=items_feature_type, \n",
        "        feature_vocab=items_vocab, \n",
        "        embedding_dim=embedding_dim,\n",
        "        num_recurrent_units=embedding_dim,\n",
        "        **embedding_kwargs)\n",
        "    # Then construct the layers.\n",
        "    self.dense_layers = tf.keras.Sequential()\n",
        "\n",
        "    # Use the ReLU activation for all but the last layer.\n",
        "    for layer_size in deep_model_layer_sizes[:-1]:\n",
        "      self.dense_layers.add(tf.keras.layers.Dense(layer_size, activation=\"relu\"))\n",
        "\n",
        "    # No activation for the last layer.\n",
        "    for layer_size in deep_model_layer_sizes[-1:]:\n",
        "      self.dense_layers.add(tf.keras.layers.Dense(layer_size))\n",
        "\n",
        "  def call(self, inputs):\n",
        "    user_embedding = self.user_model(inputs)\n",
        "    event_type_embedding = self.event_type_model(inputs)\n",
        "    user_history_embeddings = self.item_history(inputs)\n",
        "    feature_embedding = tf.concat([\n",
        "        user_embedding,\n",
        "        event_type_embedding,\n",
        "        user_history_embeddings\n",
        "    ], axis=1)\n",
        "    return self.dense_layers(feature_embedding)"
      ],
      "metadata": {
        "id": "n2gzd3ceqV5S"
      },
      "execution_count": 21,
      "outputs": []
    },
    {
      "cell_type": "code",
      "source": [
        "query_lstm_model = LSTMQueryModel(\n",
        "    deep_model_layer_sizes=deep_layer_sizes, \n",
        "    embedding_dim=embedding_dim,\n",
        "    )\n",
        "candidate_model = tf.keras.models.Sequential([\n",
        "    PlainEmbeddingModel(\n",
        "      feature_name=\"target_product_id\", \n",
        "      embedding_dim=embedding_dim,\n",
        "      feature_type=items_feature_type, \n",
        "      feature_vocab=items_vocab,\n",
        "    ),\n",
        "    tf.keras.layers.GlobalAveragePooling1D()\n",
        "])\n",
        "\n",
        "lstm_model = RetrievalModel(\n",
        "      query_model=query_lstm_model,\n",
        "      candidate_model=candidate_model,\n",
        "      candidate_pool=tf.data.Dataset.from_tensor_slices({\"target_product_id\": items_vocab[..., np.newaxis]})\n",
        "    )"
      ],
      "metadata": {
        "id": "Rl8v9ymrp5h0",
        "outputId": "99ae3782-75f2-4bb1-a670-b65612eb80f5",
        "colab": {
          "base_uri": "https://localhost:8080/"
        }
      },
      "execution_count": 39,
      "outputs": [
        {
          "output_type": "stream",
          "name": "stdout",
          "text": [
            "WARNING:tensorflow:Layers in a Sequential model should only have a single input tensor. Received: inputs={'target_product_id': <tf.Tensor 'args_0:0' shape=(None, 1) dtype=int64>}. Consider rewriting this model with the Functional API.\n"
          ]
        }
      ]
    },
    {
      "cell_type": "code",
      "source": [
        "query_lstm_model.item_history.embedding_layer.embeddings_initializer = tf.keras.initializers.Constant(item_embeddings)"
      ],
      "metadata": {
        "id": "5H53ct-u3uOH"
      },
      "execution_count": 40,
      "outputs": []
    },
    {
      "cell_type": "code",
      "source": [
        "lstm_model.compile(optimizer=tf.keras.optimizers.Adagrad(0.001))\n",
        "\n",
        "lstm_history = lstm_model.fit(\n",
        "    train_dataset,\n",
        "    validation_data=test_dataset,\n",
        "    validation_freq=5,\n",
        "    epochs=50,\n",
        "    verbose=1)"
      ],
      "metadata": {
        "id": "JDmtCLKEw-Bt",
        "outputId": "a20023ba-9357-409f-cfa8-2fa09b614026",
        "colab": {
          "base_uri": "https://localhost:8080/"
        }
      },
      "execution_count": 41,
      "outputs": [
        {
          "output_type": "stream",
          "name": "stdout",
          "text": [
            "Epoch 1/50\n",
            "WARNING:tensorflow:Layers in a Sequential model should only have a single input tensor. Received: inputs={'user_id': <tf.Tensor 'IteratorGetNext:3' shape=(None,) dtype=int64>, 'event_type': <tf.Tensor 'IteratorGetNext:0' shape=(None, 10) dtype=string>, 'product_id': <tf.Tensor 'IteratorGetNext:1' shape=(None, 10) dtype=int32>, 'target_product_id': <tf.Tensor 'IteratorGetNext:2' shape=(None, 1) dtype=int32>}. Consider rewriting this model with the Functional API.\n",
            "WARNING:tensorflow:Layers in a Sequential model should only have a single input tensor. Received: inputs={'user_id': <tf.Tensor 'IteratorGetNext:3' shape=(None,) dtype=int64>, 'event_type': <tf.Tensor 'IteratorGetNext:0' shape=(None, 10) dtype=string>, 'product_id': <tf.Tensor 'IteratorGetNext:1' shape=(None, 10) dtype=int32>, 'target_product_id': <tf.Tensor 'IteratorGetNext:2' shape=(None, 1) dtype=int32>}. Consider rewriting this model with the Functional API.\n",
            "WARNING:tensorflow:Layers in a Sequential model should only have a single input tensor. Received: inputs={'user_id': <tf.Tensor 'IteratorGetNext:3' shape=(None,) dtype=int64>, 'event_type': <tf.Tensor 'IteratorGetNext:0' shape=(None, 10) dtype=string>, 'product_id': <tf.Tensor 'IteratorGetNext:1' shape=(None, 10) dtype=int32>, 'target_product_id': <tf.Tensor 'IteratorGetNext:2' shape=(None, 1) dtype=int32>}. Consider rewriting this model with the Functional API.\n",
            "WARNING:tensorflow:Layers in a Sequential model should only have a single input tensor. Received: inputs={'user_id': <tf.Tensor 'IteratorGetNext:3' shape=(None,) dtype=int64>, 'event_type': <tf.Tensor 'IteratorGetNext:0' shape=(None, 10) dtype=string>, 'product_id': <tf.Tensor 'IteratorGetNext:1' shape=(None, 10) dtype=int32>, 'target_product_id': <tf.Tensor 'IteratorGetNext:2' shape=(None, 1) dtype=int32>}. Consider rewriting this model with the Functional API.\n",
            "42/42 [==============================] - 4s 11ms/step - map_1: 0.0000e+00 - map_10: 0.0000e+00 - map_100: 0.0000e+00 - ndcg_1: 0.0000e+00 - ndcg_10: 0.0000e+00 - ndcg_100: 0.0000e+00 - loss: 6956.3505 - regularization_loss: 0.0000e+00 - total_loss: 6956.3505\n",
            "Epoch 2/50\n",
            "42/42 [==============================] - 0s 9ms/step - map_1: 0.0000e+00 - map_10: 0.0000e+00 - map_100: 0.0000e+00 - ndcg_1: 0.0000e+00 - ndcg_10: 0.0000e+00 - ndcg_100: 0.0000e+00 - loss: 6930.2241 - regularization_loss: 0.0000e+00 - total_loss: 6930.2241\n",
            "Epoch 3/50\n",
            "42/42 [==============================] - 0s 9ms/step - map_1: 0.0000e+00 - map_10: 0.0000e+00 - map_100: 0.0000e+00 - ndcg_1: 0.0000e+00 - ndcg_10: 0.0000e+00 - ndcg_100: 0.0000e+00 - loss: 6870.3468 - regularization_loss: 0.0000e+00 - total_loss: 6870.3468\n",
            "Epoch 4/50\n",
            "42/42 [==============================] - 0s 9ms/step - map_1: 0.0000e+00 - map_10: 0.0000e+00 - map_100: 0.0000e+00 - ndcg_1: 0.0000e+00 - ndcg_10: 0.0000e+00 - ndcg_100: 0.0000e+00 - loss: 6810.8561 - regularization_loss: 0.0000e+00 - total_loss: 6810.8561\n",
            "Epoch 5/50\n",
            "37/42 [=========================>....] - ETA: 0s - map_1: 0.0000e+00 - map_10: 0.0000e+00 - map_100: 0.0000e+00 - ndcg_1: 0.0000e+00 - ndcg_10: 0.0000e+00 - ndcg_100: 0.0000e+00 - loss: 6893.1872 - regularization_loss: 0.0000e+00 - total_loss: 6893.1872WARNING:tensorflow:Layers in a Sequential model should only have a single input tensor. Received: inputs={'product_id': <tf.Tensor 'IteratorGetNext:1' shape=(None, 10) dtype=int32>, 'user_id': <tf.Tensor 'IteratorGetNext:3' shape=(None,) dtype=int64>, 'event_type': <tf.Tensor 'IteratorGetNext:0' shape=(None, 10) dtype=string>, 'target_product_id': <tf.Tensor 'IteratorGetNext:2' shape=(None, 1) dtype=int32>}. Consider rewriting this model with the Functional API.\n",
            "WARNING:tensorflow:Layers in a Sequential model should only have a single input tensor. Received: inputs={'product_id': <tf.Tensor 'IteratorGetNext:1' shape=(None, 10) dtype=int32>, 'user_id': <tf.Tensor 'IteratorGetNext:3' shape=(None,) dtype=int64>, 'event_type': <tf.Tensor 'IteratorGetNext:0' shape=(None, 10) dtype=string>, 'target_product_id': <tf.Tensor 'IteratorGetNext:2' shape=(None, 1) dtype=int32>}. Consider rewriting this model with the Functional API.\n",
            "42/42 [==============================] - 22s 541ms/step - map_1: 0.0000e+00 - map_10: 0.0000e+00 - map_100: 0.0000e+00 - ndcg_1: 0.0000e+00 - ndcg_10: 0.0000e+00 - ndcg_100: 0.0000e+00 - loss: 6755.5940 - regularization_loss: 0.0000e+00 - total_loss: 6755.5940 - val_map_1: 0.0381 - val_map_10: 0.0532 - val_map_100: 0.0596 - val_ndcg_1: 0.0379 - val_ndcg_10: 0.0645 - val_ndcg_100: 0.1020 - val_loss: nan - val_regularization_loss: 0.0000e+00 - val_total_loss: nan\n",
            "Epoch 6/50\n",
            "42/42 [==============================] - 0s 10ms/step - map_1: 0.0000e+00 - map_10: 0.0000e+00 - map_100: 0.0000e+00 - ndcg_1: 0.0000e+00 - ndcg_10: 0.0000e+00 - ndcg_100: 0.0000e+00 - loss: 6702.7079 - regularization_loss: 0.0000e+00 - total_loss: 6702.7079\n",
            "Epoch 7/50\n",
            "42/42 [==============================] - 0s 9ms/step - map_1: 0.0000e+00 - map_10: 0.0000e+00 - map_100: 0.0000e+00 - ndcg_1: 0.0000e+00 - ndcg_10: 0.0000e+00 - ndcg_100: 0.0000e+00 - loss: 6651.9283 - regularization_loss: 0.0000e+00 - total_loss: 6651.9283\n",
            "Epoch 8/50\n",
            "42/42 [==============================] - 0s 9ms/step - map_1: 0.0000e+00 - map_10: 0.0000e+00 - map_100: 0.0000e+00 - ndcg_1: 0.0000e+00 - ndcg_10: 0.0000e+00 - ndcg_100: 0.0000e+00 - loss: 6603.5193 - regularization_loss: 0.0000e+00 - total_loss: 6603.5193\n",
            "Epoch 9/50\n",
            "42/42 [==============================] - 0s 10ms/step - map_1: 0.0000e+00 - map_10: 0.0000e+00 - map_100: 0.0000e+00 - ndcg_1: 0.0000e+00 - ndcg_10: 0.0000e+00 - ndcg_100: 0.0000e+00 - loss: 6557.8687 - regularization_loss: 0.0000e+00 - total_loss: 6557.8687\n",
            "Epoch 10/50\n",
            "42/42 [==============================] - 19s 468ms/step - map_1: 0.0000e+00 - map_10: 0.0000e+00 - map_100: 0.0000e+00 - ndcg_1: 0.0000e+00 - ndcg_10: 0.0000e+00 - ndcg_100: 0.0000e+00 - loss: 6514.8445 - regularization_loss: 0.0000e+00 - total_loss: 6514.8445 - val_map_1: 0.0370 - val_map_10: 0.0470 - val_map_100: 0.0535 - val_ndcg_1: 0.0371 - val_ndcg_10: 0.0546 - val_ndcg_100: 0.0941 - val_loss: nan - val_regularization_loss: 0.0000e+00 - val_total_loss: nan\n",
            "Epoch 11/50\n",
            "42/42 [==============================] - 0s 10ms/step - map_1: 0.0000e+00 - map_10: 0.0000e+00 - map_100: 0.0000e+00 - ndcg_1: 0.0000e+00 - ndcg_10: 0.0000e+00 - ndcg_100: 0.0000e+00 - loss: 6473.4681 - regularization_loss: 0.0000e+00 - total_loss: 6473.4681\n",
            "Epoch 12/50\n",
            "42/42 [==============================] - 0s 8ms/step - map_1: 0.0000e+00 - map_10: 0.0000e+00 - map_100: 0.0000e+00 - ndcg_1: 0.0000e+00 - ndcg_10: 0.0000e+00 - ndcg_100: 0.0000e+00 - loss: 6433.2300 - regularization_loss: 0.0000e+00 - total_loss: 6433.2300\n",
            "Epoch 13/50\n",
            "42/42 [==============================] - 0s 8ms/step - map_1: 0.0000e+00 - map_10: 0.0000e+00 - map_100: 0.0000e+00 - ndcg_1: 0.0000e+00 - ndcg_10: 0.0000e+00 - ndcg_100: 0.0000e+00 - loss: 6394.3641 - regularization_loss: 0.0000e+00 - total_loss: 6394.3641\n",
            "Epoch 14/50\n",
            "42/42 [==============================] - 0s 8ms/step - map_1: 0.0000e+00 - map_10: 0.0000e+00 - map_100: 0.0000e+00 - ndcg_1: 0.0000e+00 - ndcg_10: 0.0000e+00 - ndcg_100: 0.0000e+00 - loss: 6357.0833 - regularization_loss: 0.0000e+00 - total_loss: 6357.0833\n",
            "Epoch 15/50\n",
            "42/42 [==============================] - 19s 466ms/step - map_1: 0.0000e+00 - map_10: 0.0000e+00 - map_100: 0.0000e+00 - ndcg_1: 0.0000e+00 - ndcg_10: 0.0000e+00 - ndcg_100: 0.0000e+00 - loss: 6321.4757 - regularization_loss: 0.0000e+00 - total_loss: 6321.4757 - val_map_1: 0.0366 - val_map_10: 0.0462 - val_map_100: 0.0522 - val_ndcg_1: 0.0368 - val_ndcg_10: 0.0537 - val_ndcg_100: 0.0870 - val_loss: nan - val_regularization_loss: 0.0000e+00 - val_total_loss: nan\n",
            "Epoch 16/50\n",
            "42/42 [==============================] - 0s 10ms/step - map_1: 0.0000e+00 - map_10: 0.0000e+00 - map_100: 0.0000e+00 - ndcg_1: 0.0000e+00 - ndcg_10: 0.0000e+00 - ndcg_100: 0.0000e+00 - loss: 6287.5505 - regularization_loss: 0.0000e+00 - total_loss: 6287.5505\n",
            "Epoch 17/50\n",
            "42/42 [==============================] - 0s 9ms/step - map_1: 0.0000e+00 - map_10: 0.0000e+00 - map_100: 0.0000e+00 - ndcg_1: 0.0000e+00 - ndcg_10: 0.0000e+00 - ndcg_100: 0.0000e+00 - loss: 6255.2811 - regularization_loss: 0.0000e+00 - total_loss: 6255.2811\n",
            "Epoch 18/50\n",
            "42/42 [==============================] - 0s 8ms/step - map_1: 0.0000e+00 - map_10: 0.0000e+00 - map_100: 0.0000e+00 - ndcg_1: 0.0000e+00 - ndcg_10: 0.0000e+00 - ndcg_100: 0.0000e+00 - loss: 6224.5878 - regularization_loss: 0.0000e+00 - total_loss: 6224.5878\n",
            "Epoch 19/50\n",
            "42/42 [==============================] - 0s 9ms/step - map_1: 0.0000e+00 - map_10: 0.0000e+00 - map_100: 0.0000e+00 - ndcg_1: 0.0000e+00 - ndcg_10: 0.0000e+00 - ndcg_100: 0.0000e+00 - loss: 6195.3657 - regularization_loss: 0.0000e+00 - total_loss: 6195.3657\n",
            "Epoch 20/50\n",
            "42/42 [==============================] - 19s 469ms/step - map_1: 0.0000e+00 - map_10: 0.0000e+00 - map_100: 0.0000e+00 - ndcg_1: 0.0000e+00 - ndcg_10: 0.0000e+00 - ndcg_100: 0.0000e+00 - loss: 6167.5206 - regularization_loss: 0.0000e+00 - total_loss: 6167.5206 - val_map_1: 0.0365 - val_map_10: 0.0467 - val_map_100: 0.0530 - val_ndcg_1: 0.0366 - val_ndcg_10: 0.0546 - val_ndcg_100: 0.0862 - val_loss: nan - val_regularization_loss: 0.0000e+00 - val_total_loss: nan\n",
            "Epoch 21/50\n",
            "42/42 [==============================] - 0s 10ms/step - map_1: 0.0000e+00 - map_10: 0.0000e+00 - map_100: 0.0000e+00 - ndcg_1: 0.0000e+00 - ndcg_10: 0.0000e+00 - ndcg_100: 0.0000e+00 - loss: 6140.9757 - regularization_loss: 0.0000e+00 - total_loss: 6140.9757\n",
            "Epoch 22/50\n",
            "42/42 [==============================] - 0s 9ms/step - map_1: 0.0000e+00 - map_10: 0.0000e+00 - map_100: 0.0000e+00 - ndcg_1: 0.0000e+00 - ndcg_10: 0.0000e+00 - ndcg_100: 0.0000e+00 - loss: 6115.6311 - regularization_loss: 0.0000e+00 - total_loss: 6115.6311\n",
            "Epoch 23/50\n",
            "42/42 [==============================] - 0s 8ms/step - map_1: 0.0000e+00 - map_10: 0.0000e+00 - map_100: 0.0000e+00 - ndcg_1: 0.0000e+00 - ndcg_10: 0.0000e+00 - ndcg_100: 0.0000e+00 - loss: 6091.3834 - regularization_loss: 0.0000e+00 - total_loss: 6091.3834\n",
            "Epoch 24/50\n",
            "42/42 [==============================] - 0s 8ms/step - map_1: 0.0000e+00 - map_10: 0.0000e+00 - map_100: 0.0000e+00 - ndcg_1: 0.0000e+00 - ndcg_10: 0.0000e+00 - ndcg_100: 0.0000e+00 - loss: 6068.1470 - regularization_loss: 0.0000e+00 - total_loss: 6068.1470\n",
            "Epoch 25/50\n",
            "42/42 [==============================] - 19s 463ms/step - map_1: 0.0000e+00 - map_10: 0.0000e+00 - map_100: 0.0000e+00 - ndcg_1: 0.0000e+00 - ndcg_10: 0.0000e+00 - ndcg_100: 0.0000e+00 - loss: 6045.8433 - regularization_loss: 0.0000e+00 - total_loss: 6045.8433 - val_map_1: 0.0371 - val_map_10: 0.0476 - val_map_100: 0.0539 - val_ndcg_1: 0.0374 - val_ndcg_10: 0.0563 - val_ndcg_100: 0.0873 - val_loss: nan - val_regularization_loss: 0.0000e+00 - val_total_loss: nan\n",
            "Epoch 26/50\n",
            "42/42 [==============================] - 0s 10ms/step - map_1: 0.0000e+00 - map_10: 0.0000e+00 - map_100: 0.0000e+00 - ndcg_1: 0.0000e+00 - ndcg_10: 0.0000e+00 - ndcg_100: 0.0000e+00 - loss: 6024.4027 - regularization_loss: 0.0000e+00 - total_loss: 6024.4027\n",
            "Epoch 27/50\n",
            "42/42 [==============================] - 0s 9ms/step - map_1: 0.0000e+00 - map_10: 0.0000e+00 - map_100: 0.0000e+00 - ndcg_1: 0.0000e+00 - ndcg_10: 0.0000e+00 - ndcg_100: 0.0000e+00 - loss: 6003.7555 - regularization_loss: 0.0000e+00 - total_loss: 6003.7555\n",
            "Epoch 28/50\n",
            "42/42 [==============================] - 0s 9ms/step - map_1: 0.0000e+00 - map_10: 0.0000e+00 - map_100: 0.0000e+00 - ndcg_1: 0.0000e+00 - ndcg_10: 0.0000e+00 - ndcg_100: 0.0000e+00 - loss: 5983.8421 - regularization_loss: 0.0000e+00 - total_loss: 5983.8421\n",
            "Epoch 29/50\n",
            "42/42 [==============================] - 0s 8ms/step - map_1: 0.0000e+00 - map_10: 0.0000e+00 - map_100: 0.0000e+00 - ndcg_1: 0.0000e+00 - ndcg_10: 0.0000e+00 - ndcg_100: 0.0000e+00 - loss: 5964.6002 - regularization_loss: 0.0000e+00 - total_loss: 5964.6002\n",
            "Epoch 30/50\n",
            "42/42 [==============================] - 19s 467ms/step - map_1: 0.0000e+00 - map_10: 0.0000e+00 - map_100: 0.0000e+00 - ndcg_1: 0.0000e+00 - ndcg_10: 0.0000e+00 - ndcg_100: 0.0000e+00 - loss: 5945.9731 - regularization_loss: 0.0000e+00 - total_loss: 5945.9731 - val_map_1: 0.0370 - val_map_10: 0.0486 - val_map_100: 0.0544 - val_ndcg_1: 0.0369 - val_ndcg_10: 0.0589 - val_ndcg_100: 0.0888 - val_loss: nan - val_regularization_loss: 0.0000e+00 - val_total_loss: nan\n",
            "Epoch 31/50\n",
            "42/42 [==============================] - 0s 10ms/step - map_1: 0.0000e+00 - map_10: 0.0000e+00 - map_100: 0.0000e+00 - ndcg_1: 0.0000e+00 - ndcg_10: 0.0000e+00 - ndcg_100: 0.0000e+00 - loss: 5927.9039 - regularization_loss: 0.0000e+00 - total_loss: 5927.9039\n",
            "Epoch 32/50\n",
            "42/42 [==============================] - 0s 9ms/step - map_1: 0.0000e+00 - map_10: 0.0000e+00 - map_100: 0.0000e+00 - ndcg_1: 0.0000e+00 - ndcg_10: 0.0000e+00 - ndcg_100: 0.0000e+00 - loss: 5910.3419 - regularization_loss: 0.0000e+00 - total_loss: 5910.3419\n",
            "Epoch 33/50\n",
            "42/42 [==============================] - 0s 9ms/step - map_1: 0.0000e+00 - map_10: 0.0000e+00 - map_100: 0.0000e+00 - ndcg_1: 0.0000e+00 - ndcg_10: 0.0000e+00 - ndcg_100: 0.0000e+00 - loss: 5893.2477 - regularization_loss: 0.0000e+00 - total_loss: 5893.2477\n",
            "Epoch 34/50\n",
            "42/42 [==============================] - 0s 9ms/step - map_1: 0.0000e+00 - map_10: 0.0000e+00 - map_100: 0.0000e+00 - ndcg_1: 0.0000e+00 - ndcg_10: 0.0000e+00 - ndcg_100: 0.0000e+00 - loss: 5876.5893 - regularization_loss: 0.0000e+00 - total_loss: 5876.5893\n",
            "Epoch 35/50\n",
            "42/42 [==============================] - 19s 471ms/step - map_1: 0.0000e+00 - map_10: 0.0000e+00 - map_100: 0.0000e+00 - ndcg_1: 0.0000e+00 - ndcg_10: 0.0000e+00 - ndcg_100: 0.0000e+00 - loss: 5860.3399 - regularization_loss: 0.0000e+00 - total_loss: 5860.3399 - val_map_1: 0.0380 - val_map_10: 0.0504 - val_map_100: 0.0561 - val_ndcg_1: 0.0380 - val_ndcg_10: 0.0616 - val_ndcg_100: 0.0920 - val_loss: nan - val_regularization_loss: 0.0000e+00 - val_total_loss: nan\n",
            "Epoch 36/50\n",
            "42/42 [==============================] - 0s 10ms/step - map_1: 0.0000e+00 - map_10: 0.0000e+00 - map_100: 0.0000e+00 - ndcg_1: 0.0000e+00 - ndcg_10: 0.0000e+00 - ndcg_100: 0.0000e+00 - loss: 5844.4649 - regularization_loss: 0.0000e+00 - total_loss: 5844.4649\n",
            "Epoch 37/50\n",
            "42/42 [==============================] - 0s 9ms/step - map_1: 0.0000e+00 - map_10: 0.0000e+00 - map_100: 0.0000e+00 - ndcg_1: 0.0000e+00 - ndcg_10: 0.0000e+00 - ndcg_100: 0.0000e+00 - loss: 5828.9478 - regularization_loss: 0.0000e+00 - total_loss: 5828.9478\n",
            "Epoch 38/50\n",
            "42/42 [==============================] - 0s 9ms/step - map_1: 0.0000e+00 - map_10: 0.0000e+00 - map_100: 0.0000e+00 - ndcg_1: 0.0000e+00 - ndcg_10: 0.0000e+00 - ndcg_100: 0.0000e+00 - loss: 5813.7631 - regularization_loss: 0.0000e+00 - total_loss: 5813.7631\n",
            "Epoch 39/50\n",
            "42/42 [==============================] - 0s 9ms/step - map_1: 0.0000e+00 - map_10: 0.0000e+00 - map_100: 0.0000e+00 - ndcg_1: 0.0000e+00 - ndcg_10: 0.0000e+00 - ndcg_100: 0.0000e+00 - loss: 5798.8878 - regularization_loss: 0.0000e+00 - total_loss: 5798.8878\n",
            "Epoch 40/50\n",
            "42/42 [==============================] - 19s 464ms/step - map_1: 0.0000e+00 - map_10: 0.0000e+00 - map_100: 0.0000e+00 - ndcg_1: 0.0000e+00 - ndcg_10: 0.0000e+00 - ndcg_100: 0.0000e+00 - loss: 5784.3027 - regularization_loss: 0.0000e+00 - total_loss: 5784.3027 - val_map_1: 0.0384 - val_map_10: 0.0518 - val_map_100: 0.0576 - val_ndcg_1: 0.0387 - val_ndcg_10: 0.0638 - val_ndcg_100: 0.0946 - val_loss: nan - val_regularization_loss: 0.0000e+00 - val_total_loss: nan\n",
            "Epoch 41/50\n",
            "42/42 [==============================] - 0s 10ms/step - map_1: 0.0000e+00 - map_10: 0.0000e+00 - map_100: 0.0000e+00 - ndcg_1: 0.0000e+00 - ndcg_10: 0.0000e+00 - ndcg_100: 0.0000e+00 - loss: 5769.9908 - regularization_loss: 0.0000e+00 - total_loss: 5769.9908\n",
            "Epoch 42/50\n",
            "42/42 [==============================] - 0s 9ms/step - map_1: 0.0000e+00 - map_10: 0.0000e+00 - map_100: 0.0000e+00 - ndcg_1: 0.0000e+00 - ndcg_10: 0.0000e+00 - ndcg_100: 0.0000e+00 - loss: 5755.9329 - regularization_loss: 0.0000e+00 - total_loss: 5755.9329\n",
            "Epoch 43/50\n",
            "42/42 [==============================] - 0s 10ms/step - map_1: 0.0000e+00 - map_10: 0.0000e+00 - map_100: 0.0000e+00 - ndcg_1: 0.0000e+00 - ndcg_10: 0.0000e+00 - ndcg_100: 0.0000e+00 - loss: 5742.1125 - regularization_loss: 0.0000e+00 - total_loss: 5742.1125\n",
            "Epoch 44/50\n",
            "42/42 [==============================] - 1s 12ms/step - map_1: 0.0000e+00 - map_10: 0.0000e+00 - map_100: 0.0000e+00 - ndcg_1: 0.0000e+00 - ndcg_10: 0.0000e+00 - ndcg_100: 0.0000e+00 - loss: 5728.5270 - regularization_loss: 0.0000e+00 - total_loss: 5728.5270\n",
            "Epoch 45/50\n",
            "42/42 [==============================] - 19s 460ms/step - map_1: 0.0000e+00 - map_10: 0.0000e+00 - map_100: 0.0000e+00 - ndcg_1: 0.0000e+00 - ndcg_10: 0.0000e+00 - ndcg_100: 0.0000e+00 - loss: 5715.1662 - regularization_loss: 0.0000e+00 - total_loss: 5715.1662 - val_map_1: 0.0386 - val_map_10: 0.0535 - val_map_100: 0.0590 - val_ndcg_1: 0.0385 - val_ndcg_10: 0.0673 - val_ndcg_100: 0.0970 - val_loss: nan - val_regularization_loss: 0.0000e+00 - val_total_loss: nan\n",
            "Epoch 46/50\n",
            "42/42 [==============================] - 0s 11ms/step - map_1: 0.0000e+00 - map_10: 0.0000e+00 - map_100: 0.0000e+00 - ndcg_1: 0.0000e+00 - ndcg_10: 0.0000e+00 - ndcg_100: 0.0000e+00 - loss: 5702.0215 - regularization_loss: 0.0000e+00 - total_loss: 5702.0215\n",
            "Epoch 47/50\n",
            "42/42 [==============================] - 0s 8ms/step - map_1: 0.0000e+00 - map_10: 0.0000e+00 - map_100: 0.0000e+00 - ndcg_1: 0.0000e+00 - ndcg_10: 0.0000e+00 - ndcg_100: 0.0000e+00 - loss: 5689.0862 - regularization_loss: 0.0000e+00 - total_loss: 5689.0862\n",
            "Epoch 48/50\n",
            "42/42 [==============================] - 0s 9ms/step - map_1: 0.0000e+00 - map_10: 0.0000e+00 - map_100: 0.0000e+00 - ndcg_1: 0.0000e+00 - ndcg_10: 0.0000e+00 - ndcg_100: 0.0000e+00 - loss: 5676.3547 - regularization_loss: 0.0000e+00 - total_loss: 5676.3547\n",
            "Epoch 49/50\n",
            "42/42 [==============================] - 0s 9ms/step - map_1: 0.0000e+00 - map_10: 0.0000e+00 - map_100: 0.0000e+00 - ndcg_1: 0.0000e+00 - ndcg_10: 0.0000e+00 - ndcg_100: 0.0000e+00 - loss: 5663.8167 - regularization_loss: 0.0000e+00 - total_loss: 5663.8167\n",
            "Epoch 50/50\n",
            "42/42 [==============================] - 19s 468ms/step - map_1: 0.0000e+00 - map_10: 0.0000e+00 - map_100: 0.0000e+00 - ndcg_1: 0.0000e+00 - ndcg_10: 0.0000e+00 - ndcg_100: 0.0000e+00 - loss: 5651.4663 - regularization_loss: 0.0000e+00 - total_loss: 5651.4663 - val_map_1: 0.0383 - val_map_10: 0.0552 - val_map_100: 0.0601 - val_ndcg_1: 0.0384 - val_ndcg_10: 0.0701 - val_ndcg_100: 0.0986 - val_loss: nan - val_regularization_loss: 0.0000e+00 - val_total_loss: nan\n"
          ]
        }
      ]
    },
    {
      "cell_type": "code",
      "source": [
        "num_validation_runs = len(lstm_history.history[\"val_map_100\"])\n",
        "epochs = [(x + 1)* 5 for x in range(num_validation_runs)]\n",
        "\n",
        "plt.plot(epochs, lstm_history.history[\"val_map_100\"], label=\"MAP@100\")\n",
        "plt.plot(epochs, lstm_history.history[\"val_map_10\"], label=\"MAP@10\")\n",
        "#plt.plot(epochs, two_layer_history.history[\"val_factorized_top_k/top_100_categorical_accuracy\"], label=\"2 layers\")\n",
        "plt.title(\"MAP vs epoch\")\n",
        "plt.xlabel(\"epoch\")\n",
        "plt.ylabel(\"MAP\");\n",
        "plt.legend()"
      ],
      "metadata": {
        "id": "4oregUwC2N9w",
        "outputId": "72e7b3d8-7b74-4600-e2c8-dff35c2ca770",
        "colab": {
          "base_uri": "https://localhost:8080/",
          "height": 312
        }
      },
      "execution_count": 42,
      "outputs": [
        {
          "output_type": "execute_result",
          "data": {
            "text/plain": [
              "<matplotlib.legend.Legend at 0x7fd130dc2510>"
            ]
          },
          "metadata": {},
          "execution_count": 42
        },
        {
          "output_type": "display_data",
          "data": {
            "text/plain": [
              "<Figure size 432x288 with 1 Axes>"
            ],
            "image/png": "[encoded data removed]"
          },
          "metadata": {
            "needs_background": "light"
          }
        }
      ]
    },
    {
      "cell_type": "code",
      "source": [
        "import matplotlib.pyplot as plt"
      ],
      "metadata": {
        "id": "Hofz76-t0W0r"
      },
      "execution_count": 43,
      "outputs": []
    },
    {
      "cell_type": "code",
      "source": [
        "plt.figure(figsize=(10, 5))\n",
        "plt.plot(epochs, lstm_history.history[\"val_map_10\"], label=\"LSTM MAP@10\")\n",
        "plt.plot(epochs, dge_ann_history.history[\"val_map_10\"], label=\"DGE-ANN MAP@10\")\n",
        "plt.plot(epochs, dge_ann_dcn_history.history[\"val_map_10\"], label=\"DGE-ANN DCN MAP@10\")\n",
        "\n",
        "plt.title(\"MAP@10 vs epoch\")\n",
        "plt.xlabel(\"epoch\")\n",
        "plt.ylabel(\"MAP\");\n",
        "plt.legend()\n",
        "plt.show()"
      ],
      "metadata": {
        "id": "zCuizb9IqoSb",
        "outputId": "fa7454e9-7009-4ab5-f673-37ac661a5622",
        "colab": {
          "base_uri": "https://localhost:8080/",
          "height": 350
        }
      },
      "execution_count": 44,
      "outputs": [
        {
          "output_type": "display_data",
          "data": {
            "text/plain": [
              "<Figure size 720x360 with 1 Axes>"
            ],
            "image/png": "[encoded data removed]"
          },
          "metadata": {
            "needs_background": "light"
          }
        }
      ]
    },
    {
      "cell_type": "code",
      "source": [
        "plt.figure(figsize=(10, 5))\n",
        "plt.plot(epochs, lstm_history.history[\"val_ndcg_10\"], label=\"LSTM NDCG@10\")\n",
        "plt.plot(epochs, dge_ann_history.history[\"val_ndcg_10\"], label=\"DGE-ANN NDCG@10\")\n",
        "plt.plot(epochs, dge_ann_dcn_history.history[\"val_ndcg_10\"], label=\"DGE-ANN DCN NDCG@10\")\n",
        "\n",
        "plt.title(\"NDCG@10 vs epoch\")\n",
        "plt.xlabel(\"epoch\")\n",
        "plt.ylabel(\"NDCG\");\n",
        "plt.legend()\n",
        "plt.show()"
      ],
      "metadata": {
        "id": "c73JNICr2u80",
        "outputId": "88307b84-a56e-42d6-d5c1-43c021e13a49",
        "colab": {
          "base_uri": "https://localhost:8080/",
          "height": 350
        }
      },
      "execution_count": 45,
      "outputs": [
        {
          "output_type": "display_data",
          "data": {
            "text/plain": [
              "<Figure size 720x360 with 1 Axes>"
            ],
            "image/png": "[encoded data removed]"
          },
          "metadata": {
            "needs_background": "light"
          }
        }
      ]
    },
    {
      "cell_type": "code",
      "source": [
        ""
      ],
      "metadata": {
        "id": "hr99jxCLAAet"
      },
      "execution_count": null,
      "outputs": []
    }
  ],
  "metadata": {
    "kernelspec": {
      "display_name": "Python 3 (ipykernel)",
      "language": "python",
      "name": "python3"
    },
    "language_info": {
      "codemirror_mode": {
        "name": "ipython",
        "version": 3
      },
      "file_extension": ".py",
      "mimetype": "text/x-python",
      "name": "python",
      "nbconvert_exporter": "python",
      "pygments_lexer": "ipython3",
      "version": "3.9.12"
    },
    "colab": {
      "name": "NodeAttentionNetworks.ipynb",
      "provenance": [],
      "machine_shape": "hm",
      "include_colab_link": true
    },
    "accelerator": "GPU"
  },
  "nbformat": 4,
  "nbformat_minor": 0
}