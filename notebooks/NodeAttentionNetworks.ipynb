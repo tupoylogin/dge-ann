{
 "cells": [
  {
   "cell_type": "code",
   "execution_count": null,
   "metadata": {},
   "outputs": [],
   "source": [
    "import sys\n",
    "sys.path.append('../')\n",
    "\n",
    "import tensorflow as tf\n",
    "import numpy as np\n",
    "import pandas as pd\n",
    "\n",
    "from src.models import Node2Vec, PlainEmbeddingModel, LSTMEmbeddingModel, AttentionDCN, RetrievalModel"
   ]
  },
  {
   "cell_type": "code",
   "execution_count": null,
   "metadata": {},
   "outputs": [],
   "source": [
    "adjacency_matrix_path = '../data/processed/adjacency_matrix'\n",
    "node2vec_dataset_path = '../data/processed/node2vec_dataset'\n",
    "train_dataset_path = '../data/processed/train'\n",
    "test_dataset_path = '../data/processed/test'\n",
    "\n",
    "users_vocab_path = '../data/processed/visitorid.npy'\n",
    "users_feature_type = \"int\"\n",
    "\n",
    "items_vocab_path = '../data/processed/itemid.npy'\n",
    "items_feature_type = \"int\"\n",
    "\n",
    "events_vocab_path = '../data/processed/event.npy'\n",
    "events_feature_type = \"str\"\n",
    "\n",
    "learning_rate = 0.001\n",
    "embedding_dim = 64\n",
    "batch_size = 1024"
   ]
  },
  {
   "cell_type": "code",
   "execution_count": null,
   "metadata": {},
   "outputs": [],
   "source": [
    "def construct_adjacency_matrix(path: str, shape: int) -> tf.SparseTensor:\n",
    "    adjacency_matrix = tf.io.read_file(path)\n",
    "    adjacency_matrix = tf.io.parse_tensor(adjacency_matrix, out_type=tf.int64)\n",
    "    len_of_adj_matrix = adjacency_matrix.shape[0]\n",
    "    adjacency_matrix = tf.sparse.SparseTensor(\n",
    "        indices=adjacency_matrix.numpy(), \n",
    "        values=[1 for _ in range(len_of_adj_matrix)], \n",
    "        dense_shape=(shape, shape)\n",
    "    )\n",
    "    return adjacency_matrix"
   ]
  },
  {
   "cell_type": "code",
   "execution_count": null,
   "metadata": {},
   "outputs": [],
   "source": [
    "users_vocab = np.load(users_vocab_path)\n",
    "events_vocab = np.load(events_vocab_path, allow_pickle=True)\n",
    "items_vocab = np.load(items_vocab_path)\n",
    "\n",
    "adjacency_matrix = construct_adjacency_matrix(adjacency_matrix_path, shape=len(items_vocab) + 1)"
   ]
  },
  {
   "cell_type": "code",
   "execution_count": null,
   "metadata": {},
   "outputs": [],
   "source": [
    "node2vec_dataset = tf.data.experimental.load(node2vec_dataset_path)\n",
    "node2vec_dataset = node2vec_dataset.batch(batch_size, drop_remainder=True)"
   ]
  },
  {
   "cell_type": "code",
   "execution_count": null,
   "metadata": {},
   "outputs": [],
   "source": [
    "node2vec_model = Node2Vec(\n",
    "    embedding_dim=embedding_dim, \n",
    "    target_feature='target', \n",
    "    context_feature='context', \n",
    "    feature_type='int', \n",
    "    feature_vocab=items_vocab)"
   ]
  },
  {
   "cell_type": "code",
   "execution_count": null,
   "metadata": {},
   "outputs": [],
   "source": []
  },
  {
   "cell_type": "code",
   "execution_count": null,
   "metadata": {},
   "outputs": [],
   "source": [
    "node2vec_model.compile(\n",
    "    optimizer=tf.keras.optimizers.Adam(learning_rate),\n",
    "    loss=tf.keras.losses.BinaryCrossentropy(from_logits=True),\n",
    ")\n",
    "node2vec_model.fit(node2vec_dataset, epochs=25)"
   ]
  },
  {
   "cell_type": "code",
   "execution_count": null,
   "metadata": {},
   "outputs": [],
   "source": []
  },
  {
   "cell_type": "code",
   "execution_count": null,
   "metadata": {},
   "outputs": [],
   "source": [
    "sparse_tensor = tf.io.parse_tensor(tf.io.read_file('../data/processed/adjacency_matrix'), out_type=tf.int64)"
   ]
  },
  {
   "cell_type": "code",
   "execution_count": null,
   "metadata": {},
   "outputs": [],
   "source": [
    "tf.add_n([tf.reshape(tf.gather(sparse_tensor.indices, tf.where(sparse_tensor.indices[:,0] == 1))[:,:,1], (-1,))])"
   ]
  },
  {
   "cell_type": "code",
   "execution_count": null,
   "metadata": {},
   "outputs": [],
   "source": [
    "sparse_tensor = tf.sparse.SparseTensor(indices=sparse_tensor.numpy(), values=[1 for _ in range(597317)], dense_shape=(189173, 189173))"
   ]
  },
  {
   "cell_type": "code",
   "execution_count": null,
   "metadata": {},
   "outputs": [],
   "source": [
    "np.load('../data/processed/itemid.npy')"
   ]
  },
  {
   "cell_type": "code",
   "execution_count": null,
   "metadata": {},
   "outputs": [],
   "source": []
  }
 ],
 "metadata": {
  "kernelspec": {
   "display_name": "Python 3 (ipykernel)",
   "language": "python",
   "name": "python3"
  },
  "language_info": {
   "codemirror_mode": {
    "name": "ipython",
    "version": 3
   },
   "file_extension": ".py",
   "mimetype": "text/x-python",
   "name": "python",
   "nbconvert_exporter": "python",
   "pygments_lexer": "ipython3",
   "version": "3.9.12"
  }
 },
 "nbformat": 4,
 "nbformat_minor": 2
}
